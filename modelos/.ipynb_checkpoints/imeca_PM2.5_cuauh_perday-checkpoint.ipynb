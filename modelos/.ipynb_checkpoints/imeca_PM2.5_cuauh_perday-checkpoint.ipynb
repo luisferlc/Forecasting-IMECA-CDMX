{
 "cells": [
  {
   "cell_type": "markdown",
   "metadata": {},
   "source": [
    "# IMECA's PM2.5 Cuauh por día (v3)"
   ]
  },
  {
   "cell_type": "code",
   "execution_count": 1,
   "metadata": {},
   "outputs": [],
   "source": [
    "import numpy as np\n",
    "import pandas as pd\n",
    "import seaborn as sns\n",
    "import matplotlib.pyplot as plt\n",
    "from fbprophet import Prophet\n",
    "import warnings\n",
    "warnings.simplefilter(\"ignore\")\n",
    "\n",
    "plt.style.use('bmh')"
   ]
  },
  {
   "cell_type": "code",
   "execution_count": 2,
   "metadata": {},
   "outputs": [],
   "source": [
    "def mape(y_true, y_pred):\n",
    "    y_true, y_pred=np.array(y_true), np.array(y_pred)\n",
    "    return np.mean(np.abs((y_true-y_pred)/y_true))*100\n",
    "\n",
    "def smape(y_true,y_pred):\n",
    "    return ((y_true - y_pred).abs() / (y_true.abs() + y_pred.abs())).mean() * 200"
   ]
  },
  {
   "cell_type": "code",
   "execution_count": 3,
   "metadata": {},
   "outputs": [],
   "source": [
    "def imeca_calculation(a):\n",
    "    imeca = []\n",
    "    for e in a:\n",
    "        e=round(e)\n",
    "        if (e>0)&(e<=40):\n",
    "            k= (50-0)/(40-0)\n",
    "            im=k*(e-0) + 0\n",
    "            imeca.append(round(im))\n",
    "\n",
    "        elif (e>=41) & (e<=75):\n",
    "            k=(100-51)/(75-41)\n",
    "            im=k*(e-41) + 51\n",
    "            imeca.append(round(im))\n",
    "\n",
    "        elif (e>=76) & (e<=214):\n",
    "            k=(150-101)/(214-76)\n",
    "            im=k*(e-76) + 101\n",
    "            imeca.append(round(im))\n",
    "\n",
    "        elif (e>=215) & (e<=354):\n",
    "            k=(200-151)/(354-215)\n",
    "            im=k*(e-215) + 151\n",
    "            imeca.append(round(im))\n",
    "\n",
    "        elif (e>=355) & (e<=424):\n",
    "            k=(300-201)/(424-355)\n",
    "            im=k*(e-355) + 201\n",
    "            imeca.append(round(im))\n",
    "\n",
    "    return imeca"
   ]
  },
  {
   "cell_type": "code",
   "execution_count": 4,
   "metadata": {},
   "outputs": [],
   "source": [
    "def categorizando(df):\n",
    "    lst=[]\n",
    "    for e in df:\n",
    "        if (e>=0) & (e<50):\n",
    "            lst.append('Buena')\n",
    "        elif (e>=50) & (e<100):\n",
    "            lst.append('Regular')\n",
    "        elif (e>=100) & (e<150):\n",
    "            lst.append('Mala')\n",
    "        elif (e>=150) & (e<200):\n",
    "            lst.append('Muy mala')\n",
    "        else:\n",
    "            lst.append('Ya vete de aquí woe')\n",
    "    return lst"
   ]
  },
  {
   "cell_type": "code",
   "execution_count": 5,
   "metadata": {},
   "outputs": [],
   "source": [
    "def comparando_categorias(a,b):\n",
    "    lst=[]\n",
    "    for e in range(len(a)):\n",
    "        if a[e] == b[e]:\n",
    "            lst.append(1)\n",
    "        else:\n",
    "            lst.append(0)\n",
    "    return lst"
   ]
  },
  {
   "cell_type": "markdown",
   "metadata": {},
   "source": [
    "### Leyendo CSV de IMECA's directos"
   ]
  },
  {
   "cell_type": "code",
   "execution_count": 6,
   "metadata": {},
   "outputs": [],
   "source": [
    "cuauh_imeca_real = pd.read_excel(\"../data_aircdmx/imeca2019.xls\")"
   ]
  },
  {
   "cell_type": "code",
   "execution_count": 7,
   "metadata": {},
   "outputs": [],
   "source": [
    "cuauh_imeca_real.Hora[cuauh_imeca_real.Hora==24] = 00\n",
    "cuauh_imeca_real.Fecha=cuauh_imeca_real.Fecha.apply(str)\n",
    "cuauh_imeca_real.Fecha=cuauh_imeca_real.Fecha.apply(lambda x: x.replace(' 00:00:00',''))\n",
    "cuauh_imeca_real['DATETIME']=cuauh_imeca_real.Fecha + ' ' + cuauh_imeca_real.Hora.apply(str)+':00:00'\n",
    "#df.DATETIME=df.DATETIME.apply(lambda x: x.replace(' 00:00:00',''))\n",
    "cuauh_imeca_real.DATETIME=pd.to_datetime(cuauh_imeca_real.DATETIME)"
   ]
  },
  {
   "cell_type": "code",
   "execution_count": 8,
   "metadata": {},
   "outputs": [
    {
     "data": {
      "text/plain": [
       "7291   2019-10-31 20:00:00\n",
       "7292   2019-10-31 21:00:00\n",
       "7293   2019-10-31 22:00:00\n",
       "7294   2019-10-31 23:00:00\n",
       "7295   2019-10-31 00:00:00\n",
       "Name: DATETIME, dtype: datetime64[ns]"
      ]
     },
     "execution_count": 8,
     "metadata": {},
     "output_type": "execute_result"
    }
   ],
   "source": [
    "cuauh_imeca_real.DATETIME.tail()"
   ]
  },
  {
   "cell_type": "code",
   "execution_count": 9,
   "metadata": {},
   "outputs": [],
   "source": [
    "cuauh_imeca_real=cuauh_imeca_real[['DATETIME','Centro PM25']]\n",
    "cuauh_imeca_real=cuauh_imeca_real.set_index('DATETIME')\n",
    "\n",
    "cuauh_imeca_mean=cuauh_imeca_real.groupby(pd.TimeGrouper('D')).mean()\n",
    "cuauh_imeca_max=cuauh_imeca_real.groupby(pd.TimeGrouper('D')).max()\n",
    "cuauh_imeca_median=cuauh_imeca_real.groupby(pd.TimeGrouper('D')).median()"
   ]
  },
  {
   "cell_type": "markdown",
   "metadata": {},
   "source": [
    "## Ejecución del modelo"
   ]
  },
  {
   "cell_type": "code",
   "execution_count": 10,
   "metadata": {},
   "outputs": [],
   "source": [
    "cuauh_clean_max = pd.read_csv(\"../data_clean/cuauh_pm25_max_clean_v3.csv\",index_col=[0])\n",
    "cuauh_clean_median = pd.read_csv(\"../data_clean/cuauh_pm25_median_clean_v3.csv\",index_col=[0])\n",
    "cuauh_clean_mean = pd.read_csv(\"../data_clean/cuauh_pm25_mean_clean_v3.csv\",index_col=[0])"
   ]
  },
  {
   "cell_type": "code",
   "execution_count": 11,
   "metadata": {},
   "outputs": [],
   "source": [
    "split_date2='2019-01-01'\n",
    "split_date1='2015-11-01'\n",
    "\n",
    "#### Para el valor Máximo ######\n",
    "train=cuauh_clean_max[(cuauh_clean_max.index>=split_date1)&(cuauh_clean_max.index<split_date2)].copy()\n",
    "test=cuauh_clean_max[cuauh_clean_max.index>split_date2].copy()\n",
    "\n",
    "#### Para la Mediana ######\n",
    "train2=cuauh_clean_median[(cuauh_clean_median.index>=split_date1)&(cuauh_clean_median.index<split_date2)].copy()\n",
    "test2=cuauh_clean_median[cuauh_clean_median.index>split_date2].copy()\n",
    "\n",
    "#### Para la Mean ######\n",
    "train3=cuauh_clean_mean[(cuauh_clean_mean.index>=split_date1)&(cuauh_clean_mean.index<split_date2)].copy()\n",
    "test3=cuauh_clean_mean[cuauh_clean_mean.index>split_date2].copy()"
   ]
  },
  {
   "cell_type": "markdown",
   "metadata": {},
   "source": [
    "### Preparando para fbprophet"
   ]
  },
  {
   "cell_type": "code",
   "execution_count": 12,
   "metadata": {},
   "outputs": [],
   "source": [
    "train=train.reset_index().rename(columns={'DATETIME':'ds','HGM':'y'})\n",
    "test=test.reset_index().rename(columns={'DATETIME':'ds','HGM':'y'})\n",
    "\n",
    "train.ds=pd.to_datetime(train.ds)\n",
    "test.ds=pd.to_datetime(test.ds)\n",
    "test=test.dropna()\n",
    "###############################################################################\n",
    "train2=train2.reset_index().rename(columns={'DATETIME':'ds','HGM':'y'})\n",
    "test2=test2.reset_index().rename(columns={'DATETIME':'ds','HGM':'y'})\n",
    "\n",
    "train2.ds=pd.to_datetime(train2.ds)\n",
    "test2.ds=pd.to_datetime(test2.ds)\n",
    "test2=test2.dropna()\n",
    "###############################################################################\n",
    "train3=train3.reset_index().rename(columns={'DATETIME':'ds','HGM':'y'})\n",
    "test3=test3.reset_index().rename(columns={'DATETIME':'ds','HGM':'y'})\n",
    "\n",
    "train3.ds=pd.to_datetime(train3.ds)\n",
    "test3.ds=pd.to_datetime(test3.ds)\n",
    "test3=test3.dropna()"
   ]
  },
  {
   "cell_type": "markdown",
   "metadata": {},
   "source": [
    "## Modelo 1"
   ]
  },
  {
   "cell_type": "code",
   "execution_count": 13,
   "metadata": {},
   "outputs": [
    {
     "name": "stderr",
     "output_type": "stream",
     "text": [
      "INFO:fbprophet:Disabling daily seasonality. Run prophet with daily_seasonality=True to override this.\n"
     ]
    }
   ],
   "source": [
    "modelo=Prophet(n_changepoints=2,\n",
    "               #growth='linear',\n",
    "               #holidays=holidays_df,\n",
    "               #changepoints=['2016-01-01','2017-02-01','2018-01-01','2018-12-31'],\n",
    "               changepoint_prior_scale=0.65,\n",
    "               #daily_seasonality=True,\n",
    "               #yearly_seasonality=15,\n",
    "               #weekly_seasonality=True,\n",
    "               #daily_seasonality=False,\n",
    "               #yearly_seasonality=True,\n",
    "               #seasonality_prior_scale = 15,\n",
    "               #seasonality_mode='multiplicative',\n",
    "               #interval_width=0.95\n",
    "              ).fit(train)"
   ]
  },
  {
   "cell_type": "code",
   "execution_count": 14,
   "metadata": {},
   "outputs": [],
   "source": [
    "pred=modelo.predict(test)"
   ]
  },
  {
   "cell_type": "code",
   "execution_count": 15,
   "metadata": {},
   "outputs": [
    {
     "data": {
      "text/plain": [
       "(29.969175496181254, 26.91819220044386)"
      ]
     },
     "execution_count": 15,
     "metadata": {},
     "output_type": "execute_result"
    }
   ],
   "source": [
    "mape(test.y, pred.yhat), smape(test.y, pred.yhat)"
   ]
  },
  {
   "cell_type": "code",
   "execution_count": 16,
   "metadata": {},
   "outputs": [
    {
     "data": {
      "image/png": "[encoded data removed]",
      "text/plain": [
       "<Figure size 1440x576 with 1 Axes>"
      ]
     },
     "metadata": {
      "needs_background": "light"
     },
     "output_type": "display_data"
    }
   ],
   "source": [
    "f, ax=plt.subplots(1)\n",
    "f.set_figheight(8)\n",
    "f.set_figwidth(20)\n",
    "ax.scatter(test.ds, test.y, color='r',s=12)\n",
    "fig=modelo.plot(pred, ax)"
   ]
  },
  {
   "cell_type": "code",
   "execution_count": 17,
   "metadata": {},
   "outputs": [
    {
     "data": {
      "image/png": "[encoded data removed]",
      "text/plain": [
       "<Figure size 720x432 with 1 Axes>"
      ]
     },
     "metadata": {},
     "output_type": "display_data"
    }
   ],
   "source": [
    "from fbprophet.plot import add_changepoints_to_plot\n",
    "#ploteando change_pints del modelo\n",
    "fig = modelo.plot(pred)\n",
    "a = add_changepoints_to_plot(fig.gca(), modelo, pred)"
   ]
  },
  {
   "cell_type": "code",
   "execution_count": 18,
   "metadata": {},
   "outputs": [
    {
     "data": {
      "text/html": [
       "<div>\n",
       "<style scoped>\n",
       "    .dataframe tbody tr th:only-of-type {\n",
       "        vertical-align: middle;\n",
       "    }\n",
       "\n",
       "    .dataframe tbody tr th {\n",
       "        vertical-align: top;\n",
       "    }\n",
       "\n",
       "    .dataframe thead th {\n",
       "        text-align: right;\n",
       "    }\n",
       "</style>\n",
       "<table border=\"1\" class=\"dataframe\">\n",
       "  <thead>\n",
       "    <tr style=\"text-align: right;\">\n",
       "      <th></th>\n",
       "      <th>ds</th>\n",
       "      <th>trend</th>\n",
       "      <th>yhat_lower</th>\n",
       "      <th>yhat_upper</th>\n",
       "      <th>trend_lower</th>\n",
       "      <th>trend_upper</th>\n",
       "      <th>additive_terms</th>\n",
       "      <th>additive_terms_lower</th>\n",
       "      <th>additive_terms_upper</th>\n",
       "      <th>weekly</th>\n",
       "      <th>weekly_lower</th>\n",
       "      <th>weekly_upper</th>\n",
       "      <th>yearly</th>\n",
       "      <th>yearly_lower</th>\n",
       "      <th>yearly_upper</th>\n",
       "      <th>multiplicative_terms</th>\n",
       "      <th>multiplicative_terms_lower</th>\n",
       "      <th>multiplicative_terms_upper</th>\n",
       "      <th>yhat</th>\n",
       "    </tr>\n",
       "  </thead>\n",
       "  <tbody>\n",
       "    <tr>\n",
       "      <th>0</th>\n",
       "      <td>2019-01-02</td>\n",
       "      <td>44.166876</td>\n",
       "      <td>33.711961</td>\n",
       "      <td>80.305296</td>\n",
       "      <td>44.166876</td>\n",
       "      <td>44.166876</td>\n",
       "      <td>13.009202</td>\n",
       "      <td>13.009202</td>\n",
       "      <td>13.009202</td>\n",
       "      <td>0.447700</td>\n",
       "      <td>0.447700</td>\n",
       "      <td>0.447700</td>\n",
       "      <td>12.561502</td>\n",
       "      <td>12.561502</td>\n",
       "      <td>12.561502</td>\n",
       "      <td>0.0</td>\n",
       "      <td>0.0</td>\n",
       "      <td>0.0</td>\n",
       "      <td>57.176078</td>\n",
       "    </tr>\n",
       "    <tr>\n",
       "      <th>1</th>\n",
       "      <td>2019-01-03</td>\n",
       "      <td>44.145070</td>\n",
       "      <td>31.618608</td>\n",
       "      <td>77.162562</td>\n",
       "      <td>44.145070</td>\n",
       "      <td>44.145070</td>\n",
       "      <td>10.675950</td>\n",
       "      <td>10.675950</td>\n",
       "      <td>10.675950</td>\n",
       "      <td>-0.894931</td>\n",
       "      <td>-0.894931</td>\n",
       "      <td>-0.894931</td>\n",
       "      <td>11.570881</td>\n",
       "      <td>11.570881</td>\n",
       "      <td>11.570881</td>\n",
       "      <td>0.0</td>\n",
       "      <td>0.0</td>\n",
       "      <td>0.0</td>\n",
       "      <td>54.821020</td>\n",
       "    </tr>\n",
       "    <tr>\n",
       "      <th>2</th>\n",
       "      <td>2019-01-04</td>\n",
       "      <td>44.123265</td>\n",
       "      <td>32.318564</td>\n",
       "      <td>82.018096</td>\n",
       "      <td>44.123265</td>\n",
       "      <td>44.123265</td>\n",
       "      <td>12.904744</td>\n",
       "      <td>12.904744</td>\n",
       "      <td>12.904744</td>\n",
       "      <td>2.397849</td>\n",
       "      <td>2.397849</td>\n",
       "      <td>2.397849</td>\n",
       "      <td>10.506896</td>\n",
       "      <td>10.506896</td>\n",
       "      <td>10.506896</td>\n",
       "      <td>0.0</td>\n",
       "      <td>0.0</td>\n",
       "      <td>0.0</td>\n",
       "      <td>57.028009</td>\n",
       "    </tr>\n",
       "    <tr>\n",
       "      <th>3</th>\n",
       "      <td>2019-01-05</td>\n",
       "      <td>44.101459</td>\n",
       "      <td>27.866434</td>\n",
       "      <td>78.232859</td>\n",
       "      <td>44.101459</td>\n",
       "      <td>44.101459</td>\n",
       "      <td>8.474288</td>\n",
       "      <td>8.474288</td>\n",
       "      <td>8.474288</td>\n",
       "      <td>-0.914928</td>\n",
       "      <td>-0.914928</td>\n",
       "      <td>-0.914928</td>\n",
       "      <td>9.389215</td>\n",
       "      <td>9.389215</td>\n",
       "      <td>9.389215</td>\n",
       "      <td>0.0</td>\n",
       "      <td>0.0</td>\n",
       "      <td>0.0</td>\n",
       "      <td>52.575747</td>\n",
       "    </tr>\n",
       "    <tr>\n",
       "      <th>4</th>\n",
       "      <td>2019-01-06</td>\n",
       "      <td>44.079654</td>\n",
       "      <td>27.821822</td>\n",
       "      <td>74.632430</td>\n",
       "      <td>44.079654</td>\n",
       "      <td>44.079654</td>\n",
       "      <td>6.500246</td>\n",
       "      <td>6.500246</td>\n",
       "      <td>6.500246</td>\n",
       "      <td>-1.738870</td>\n",
       "      <td>-1.738870</td>\n",
       "      <td>-1.738870</td>\n",
       "      <td>8.239116</td>\n",
       "      <td>8.239116</td>\n",
       "      <td>8.239116</td>\n",
       "      <td>0.0</td>\n",
       "      <td>0.0</td>\n",
       "      <td>0.0</td>\n",
       "      <td>50.579900</td>\n",
       "    </tr>\n",
       "  </tbody>\n",
       "</table>\n",
       "</div>"
      ],
      "text/plain": [
       "          ds      trend  yhat_lower  yhat_upper  trend_lower  trend_upper  \\\n",
       "0 2019-01-02  44.166876   33.711961   80.305296    44.166876    44.166876   \n",
       "1 2019-01-03  44.145070   31.618608   77.162562    44.145070    44.145070   \n",
       "2 2019-01-04  44.123265   32.318564   82.018096    44.123265    44.123265   \n",
       "3 2019-01-05  44.101459   27.866434   78.232859    44.101459    44.101459   \n",
       "4 2019-01-06  44.079654   27.821822   74.632430    44.079654    44.079654   \n",
       "\n",
       "   additive_terms  additive_terms_lower  additive_terms_upper    weekly  \\\n",
       "0       13.009202             13.009202             13.009202  0.447700   \n",
       "1       10.675950             10.675950             10.675950 -0.894931   \n",
       "2       12.904744             12.904744             12.904744  2.397849   \n",
       "3        8.474288              8.474288              8.474288 -0.914928   \n",
       "4        6.500246              6.500246              6.500246 -1.738870   \n",
       "\n",
       "   weekly_lower  weekly_upper     yearly  yearly_lower  yearly_upper  \\\n",
       "0      0.447700      0.447700  12.561502     12.561502     12.561502   \n",
       "1     -0.894931     -0.894931  11.570881     11.570881     11.570881   \n",
       "2      2.397849      2.397849  10.506896     10.506896     10.506896   \n",
       "3     -0.914928     -0.914928   9.389215      9.389215      9.389215   \n",
       "4     -1.738870     -1.738870   8.239116      8.239116      8.239116   \n",
       "\n",
       "   multiplicative_terms  multiplicative_terms_lower  \\\n",
       "0                   0.0                         0.0   \n",
       "1                   0.0                         0.0   \n",
       "2                   0.0                         0.0   \n",
       "3                   0.0                         0.0   \n",
       "4                   0.0                         0.0   \n",
       "\n",
       "   multiplicative_terms_upper       yhat  \n",
       "0                         0.0  57.176078  \n",
       "1                         0.0  54.821020  \n",
       "2                         0.0  57.028009  \n",
       "3                         0.0  52.575747  \n",
       "4                         0.0  50.579900  "
      ]
     },
     "execution_count": 18,
     "metadata": {},
     "output_type": "execute_result"
    }
   ],
   "source": [
    "pred.head()"
   ]
  },
  {
   "cell_type": "markdown",
   "metadata": {},
   "source": [
    "## Modelo 2"
   ]
  },
  {
   "cell_type": "code",
   "execution_count": 99,
   "metadata": {},
   "outputs": [
    {
     "name": "stderr",
     "output_type": "stream",
     "text": [
      "INFO:fbprophet:Disabling daily seasonality. Run prophet with daily_seasonality=True to override this.\n"
     ]
    }
   ],
   "source": [
    "modelo2=Prophet(#n_changepoints=2,\n",
    "               #growth='linear',\n",
    "               #holidays=holidays_df,\n",
    "               #changepoints=['2016-01-01','2017-02-01','2018-01-01','2018-12-31'],\n",
    "               #changepoint_prior_scale=0.65,\n",
    "               #daily_seasonality=True,\n",
    "               #yearly_seasonality=15,\n",
    "               #weekly_seasonality=True,\n",
    "               #daily_seasonality=False,\n",
    "               #yearly_seasonality=True,\n",
    "               #seasonality_prior_scale = 15,\n",
    "               #seasonality_mode='multiplicative'\n",
    "               #interval_width=0.95\n",
    "              ).fit(train)"
   ]
  },
  {
   "cell_type": "code",
   "execution_count": 100,
   "metadata": {},
   "outputs": [],
   "source": [
    "pred2=modelo2.predict(test)"
   ]
  },
  {
   "cell_type": "code",
   "execution_count": 101,
   "metadata": {},
   "outputs": [
    {
     "data": {
      "text/plain": [
       "(33.11050460677733, 25.664736261546985)"
      ]
     },
     "execution_count": 101,
     "metadata": {},
     "output_type": "execute_result"
    }
   ],
   "source": [
    "mape(test.y, pred2.yhat), smape(test.y, pred2.yhat)"
   ]
  },
  {
   "cell_type": "code",
   "execution_count": 102,
   "metadata": {},
   "outputs": [
    {
     "data": {
      "image/png": "[encoded data removed]",
      "text/plain": [
       "<Figure size 1440x576 with 1 Axes>"
      ]
     },
     "metadata": {
      "needs_background": "light"
     },
     "output_type": "display_data"
    }
   ],
   "source": [
    "f, ax=plt.subplots(1)\n",
    "f.set_figheight(8)\n",
    "f.set_figwidth(20)\n",
    "ax.scatter(test.ds, test.y, color='r',s=12)\n",
    "fig=modelo.plot(pred2, ax)"
   ]
  },
  {
   "cell_type": "code",
   "execution_count": 103,
   "metadata": {},
   "outputs": [
    {
     "data": {
      "image/png": "[encoded data removed]",
      "text/plain": [
       "<Figure size 720x432 with 1 Axes>"
      ]
     },
     "metadata": {},
     "output_type": "display_data"
    }
   ],
   "source": [
    "from fbprophet.plot import add_changepoints_to_plot\n",
    "#ploteando change_pints del modelo\n",
    "fig = modelo.plot(pred)\n",
    "a = add_changepoints_to_plot(fig.gca(), modelo2, pred2)"
   ]
  },
  {
   "cell_type": "code",
   "execution_count": 104,
   "metadata": {},
   "outputs": [
    {
     "data": {
      "text/html": [
       "<div>\n",
       "<style scoped>\n",
       "    .dataframe tbody tr th:only-of-type {\n",
       "        vertical-align: middle;\n",
       "    }\n",
       "\n",
       "    .dataframe tbody tr th {\n",
       "        vertical-align: top;\n",
       "    }\n",
       "\n",
       "    .dataframe thead th {\n",
       "        text-align: right;\n",
       "    }\n",
       "</style>\n",
       "<table border=\"1\" class=\"dataframe\">\n",
       "  <thead>\n",
       "    <tr style=\"text-align: right;\">\n",
       "      <th></th>\n",
       "      <th>ds</th>\n",
       "      <th>trend</th>\n",
       "      <th>yhat_lower</th>\n",
       "      <th>yhat_upper</th>\n",
       "      <th>trend_lower</th>\n",
       "      <th>trend_upper</th>\n",
       "      <th>additive_terms</th>\n",
       "      <th>additive_terms_lower</th>\n",
       "      <th>additive_terms_upper</th>\n",
       "      <th>weekly</th>\n",
       "      <th>weekly_lower</th>\n",
       "      <th>weekly_upper</th>\n",
       "      <th>yearly</th>\n",
       "      <th>yearly_lower</th>\n",
       "      <th>yearly_upper</th>\n",
       "      <th>multiplicative_terms</th>\n",
       "      <th>multiplicative_terms_lower</th>\n",
       "      <th>multiplicative_terms_upper</th>\n",
       "      <th>yhat</th>\n",
       "    </tr>\n",
       "  </thead>\n",
       "  <tbody>\n",
       "    <tr>\n",
       "      <th>0</th>\n",
       "      <td>2019-01-02</td>\n",
       "      <td>46.578787</td>\n",
       "      <td>36.260237</td>\n",
       "      <td>84.159655</td>\n",
       "      <td>46.578787</td>\n",
       "      <td>46.578787</td>\n",
       "      <td>13.351076</td>\n",
       "      <td>13.351076</td>\n",
       "      <td>13.351076</td>\n",
       "      <td>0.456999</td>\n",
       "      <td>0.456999</td>\n",
       "      <td>0.456999</td>\n",
       "      <td>12.894077</td>\n",
       "      <td>12.894077</td>\n",
       "      <td>12.894077</td>\n",
       "      <td>0.0</td>\n",
       "      <td>0.0</td>\n",
       "      <td>0.0</td>\n",
       "      <td>59.929863</td>\n",
       "    </tr>\n",
       "    <tr>\n",
       "      <th>1</th>\n",
       "      <td>2019-01-03</td>\n",
       "      <td>46.576903</td>\n",
       "      <td>32.914421</td>\n",
       "      <td>83.602251</td>\n",
       "      <td>46.576903</td>\n",
       "      <td>46.576903</td>\n",
       "      <td>11.050117</td>\n",
       "      <td>11.050117</td>\n",
       "      <td>11.050117</td>\n",
       "      <td>-0.929267</td>\n",
       "      <td>-0.929267</td>\n",
       "      <td>-0.929267</td>\n",
       "      <td>11.979384</td>\n",
       "      <td>11.979384</td>\n",
       "      <td>11.979384</td>\n",
       "      <td>0.0</td>\n",
       "      <td>0.0</td>\n",
       "      <td>0.0</td>\n",
       "      <td>57.627020</td>\n",
       "    </tr>\n",
       "    <tr>\n",
       "      <th>2</th>\n",
       "      <td>2019-01-04</td>\n",
       "      <td>46.575019</td>\n",
       "      <td>34.696904</td>\n",
       "      <td>85.204089</td>\n",
       "      <td>46.575019</td>\n",
       "      <td>46.575019</td>\n",
       "      <td>13.357189</td>\n",
       "      <td>13.357189</td>\n",
       "      <td>13.357189</td>\n",
       "      <td>2.368996</td>\n",
       "      <td>2.368996</td>\n",
       "      <td>2.368996</td>\n",
       "      <td>10.988193</td>\n",
       "      <td>10.988193</td>\n",
       "      <td>10.988193</td>\n",
       "      <td>0.0</td>\n",
       "      <td>0.0</td>\n",
       "      <td>0.0</td>\n",
       "      <td>59.932208</td>\n",
       "    </tr>\n",
       "    <tr>\n",
       "      <th>3</th>\n",
       "      <td>2019-01-05</td>\n",
       "      <td>46.573135</td>\n",
       "      <td>31.370810</td>\n",
       "      <td>79.797183</td>\n",
       "      <td>46.573135</td>\n",
       "      <td>46.573135</td>\n",
       "      <td>9.013876</td>\n",
       "      <td>9.013876</td>\n",
       "      <td>9.013876</td>\n",
       "      <td>-0.925233</td>\n",
       "      <td>-0.925233</td>\n",
       "      <td>-0.925233</td>\n",
       "      <td>9.939109</td>\n",
       "      <td>9.939109</td>\n",
       "      <td>9.939109</td>\n",
       "      <td>0.0</td>\n",
       "      <td>0.0</td>\n",
       "      <td>0.0</td>\n",
       "      <td>55.587011</td>\n",
       "    </tr>\n",
       "    <tr>\n",
       "      <th>4</th>\n",
       "      <td>2019-01-06</td>\n",
       "      <td>46.571251</td>\n",
       "      <td>27.817294</td>\n",
       "      <td>78.961582</td>\n",
       "      <td>46.571251</td>\n",
       "      <td>46.571251</td>\n",
       "      <td>7.126390</td>\n",
       "      <td>7.126390</td>\n",
       "      <td>7.126390</td>\n",
       "      <td>-1.726004</td>\n",
       "      <td>-1.726004</td>\n",
       "      <td>-1.726004</td>\n",
       "      <td>8.852394</td>\n",
       "      <td>8.852394</td>\n",
       "      <td>8.852394</td>\n",
       "      <td>0.0</td>\n",
       "      <td>0.0</td>\n",
       "      <td>0.0</td>\n",
       "      <td>53.697641</td>\n",
       "    </tr>\n",
       "  </tbody>\n",
       "</table>\n",
       "</div>"
      ],
      "text/plain": [
       "          ds      trend  yhat_lower  yhat_upper  trend_lower  trend_upper  \\\n",
       "0 2019-01-02  46.578787   36.260237   84.159655    46.578787    46.578787   \n",
       "1 2019-01-03  46.576903   32.914421   83.602251    46.576903    46.576903   \n",
       "2 2019-01-04  46.575019   34.696904   85.204089    46.575019    46.575019   \n",
       "3 2019-01-05  46.573135   31.370810   79.797183    46.573135    46.573135   \n",
       "4 2019-01-06  46.571251   27.817294   78.961582    46.571251    46.571251   \n",
       "\n",
       "   additive_terms  additive_terms_lower  additive_terms_upper    weekly  \\\n",
       "0       13.351076             13.351076             13.351076  0.456999   \n",
       "1       11.050117             11.050117             11.050117 -0.929267   \n",
       "2       13.357189             13.357189             13.357189  2.368996   \n",
       "3        9.013876              9.013876              9.013876 -0.925233   \n",
       "4        7.126390              7.126390              7.126390 -1.726004   \n",
       "\n",
       "   weekly_lower  weekly_upper     yearly  yearly_lower  yearly_upper  \\\n",
       "0      0.456999      0.456999  12.894077     12.894077     12.894077   \n",
       "1     -0.929267     -0.929267  11.979384     11.979384     11.979384   \n",
       "2      2.368996      2.368996  10.988193     10.988193     10.988193   \n",
       "3     -0.925233     -0.925233   9.939109      9.939109      9.939109   \n",
       "4     -1.726004     -1.726004   8.852394      8.852394      8.852394   \n",
       "\n",
       "   multiplicative_terms  multiplicative_terms_lower  \\\n",
       "0                   0.0                         0.0   \n",
       "1                   0.0                         0.0   \n",
       "2                   0.0                         0.0   \n",
       "3                   0.0                         0.0   \n",
       "4                   0.0                         0.0   \n",
       "\n",
       "   multiplicative_terms_upper       yhat  \n",
       "0                         0.0  59.929863  \n",
       "1                         0.0  57.627020  \n",
       "2                         0.0  59.932208  \n",
       "3                         0.0  55.587011  \n",
       "4                         0.0  53.697641  "
      ]
     },
     "execution_count": 104,
     "metadata": {},
     "output_type": "execute_result"
    }
   ],
   "source": [
    "pred2.head()"
   ]
  },
  {
   "cell_type": "markdown",
   "metadata": {},
   "source": [
    "# Comparación directa de IMECA"
   ]
  },
  {
   "cell_type": "markdown",
   "metadata": {},
   "source": [
    "## Comparación modelo 1"
   ]
  },
  {
   "cell_type": "markdown",
   "metadata": {},
   "source": [
    "### Predicción"
   ]
  },
  {
   "cell_type": "code",
   "execution_count": 17,
   "metadata": {},
   "outputs": [],
   "source": [
    "df_pred=pd.DataFrame(pred[['ds','yhat_upper']])\n",
    "df_pred=df_pred.set_index('ds')"
   ]
  },
  {
   "cell_type": "code",
   "execution_count": 18,
   "metadata": {},
   "outputs": [
    {
     "data": {
      "text/html": [
       "<div>\n",
       "<style scoped>\n",
       "    .dataframe tbody tr th:only-of-type {\n",
       "        vertical-align: middle;\n",
       "    }\n",
       "\n",
       "    .dataframe tbody tr th {\n",
       "        vertical-align: top;\n",
       "    }\n",
       "\n",
       "    .dataframe thead th {\n",
       "        text-align: right;\n",
       "    }\n",
       "</style>\n",
       "<table border=\"1\" class=\"dataframe\">\n",
       "  <thead>\n",
       "    <tr style=\"text-align: right;\">\n",
       "      <th></th>\n",
       "      <th>yhat_upper</th>\n",
       "    </tr>\n",
       "    <tr>\n",
       "      <th>ds</th>\n",
       "      <th></th>\n",
       "    </tr>\n",
       "  </thead>\n",
       "  <tbody>\n",
       "    <tr>\n",
       "      <th>2019-01-02</th>\n",
       "      <td>80.769698</td>\n",
       "    </tr>\n",
       "    <tr>\n",
       "      <th>2019-01-03</th>\n",
       "      <td>79.659998</td>\n",
       "    </tr>\n",
       "    <tr>\n",
       "      <th>2019-01-04</th>\n",
       "      <td>81.033675</td>\n",
       "    </tr>\n",
       "    <tr>\n",
       "      <th>2019-01-05</th>\n",
       "      <td>76.455199</td>\n",
       "    </tr>\n",
       "    <tr>\n",
       "      <th>2019-01-06</th>\n",
       "      <td>73.947028</td>\n",
       "    </tr>\n",
       "    <tr>\n",
       "      <th>2019-01-07</th>\n",
       "      <td>75.177565</td>\n",
       "    </tr>\n",
       "    <tr>\n",
       "      <th>2019-01-08</th>\n",
       "      <td>76.378034</td>\n",
       "    </tr>\n",
       "    <tr>\n",
       "      <th>2019-01-09</th>\n",
       "      <td>75.717615</td>\n",
       "    </tr>\n",
       "    <tr>\n",
       "      <th>2019-01-10</th>\n",
       "      <td>69.345076</td>\n",
       "    </tr>\n",
       "    <tr>\n",
       "      <th>2019-01-11</th>\n",
       "      <td>72.916671</td>\n",
       "    </tr>\n",
       "  </tbody>\n",
       "</table>\n",
       "</div>"
      ],
      "text/plain": [
       "            yhat_upper\n",
       "ds                    \n",
       "2019-01-02   80.769698\n",
       "2019-01-03   79.659998\n",
       "2019-01-04   81.033675\n",
       "2019-01-05   76.455199\n",
       "2019-01-06   73.947028\n",
       "2019-01-07   75.177565\n",
       "2019-01-08   76.378034\n",
       "2019-01-09   75.717615\n",
       "2019-01-10   69.345076\n",
       "2019-01-11   72.916671"
      ]
     },
     "execution_count": 18,
     "metadata": {},
     "output_type": "execute_result"
    }
   ],
   "source": [
    "df_pred.head(10)"
   ]
  },
  {
   "cell_type": "code",
   "execution_count": 19,
   "metadata": {},
   "outputs": [
    {
     "data": {
      "text/plain": [
       "(254, 1)"
      ]
     },
     "execution_count": 19,
     "metadata": {},
     "output_type": "execute_result"
    }
   ],
   "source": [
    "df_pred.shape"
   ]
  },
  {
   "cell_type": "code",
   "execution_count": 20,
   "metadata": {},
   "outputs": [],
   "source": [
    "df_pred.isnull().sum() #13 NANs\n",
    "df_pred=df_pred.dropna()"
   ]
  },
  {
   "cell_type": "code",
   "execution_count": 21,
   "metadata": {},
   "outputs": [
    {
     "data": {
      "text/plain": [
       "(254, 1)"
      ]
     },
     "execution_count": 21,
     "metadata": {},
     "output_type": "execute_result"
    }
   ],
   "source": [
    "df_pred.shape"
   ]
  },
  {
   "cell_type": "code",
   "execution_count": 22,
   "metadata": {},
   "outputs": [
    {
     "data": {
      "text/html": [
       "<div>\n",
       "<style scoped>\n",
       "    .dataframe tbody tr th:only-of-type {\n",
       "        vertical-align: middle;\n",
       "    }\n",
       "\n",
       "    .dataframe tbody tr th {\n",
       "        vertical-align: top;\n",
       "    }\n",
       "\n",
       "    .dataframe thead th {\n",
       "        text-align: right;\n",
       "    }\n",
       "</style>\n",
       "<table border=\"1\" class=\"dataframe\">\n",
       "  <thead>\n",
       "    <tr style=\"text-align: right;\">\n",
       "      <th></th>\n",
       "      <th>yhat_upper</th>\n",
       "      <th>imeca_pred</th>\n",
       "    </tr>\n",
       "    <tr>\n",
       "      <th>ds</th>\n",
       "      <th></th>\n",
       "      <th></th>\n",
       "    </tr>\n",
       "  </thead>\n",
       "  <tbody>\n",
       "    <tr>\n",
       "      <th>2019-01-02</th>\n",
       "      <td>80.769698</td>\n",
       "      <td>103</td>\n",
       "    </tr>\n",
       "    <tr>\n",
       "      <th>2019-01-03</th>\n",
       "      <td>79.659998</td>\n",
       "      <td>102</td>\n",
       "    </tr>\n",
       "    <tr>\n",
       "      <th>2019-01-04</th>\n",
       "      <td>81.033675</td>\n",
       "      <td>103</td>\n",
       "    </tr>\n",
       "    <tr>\n",
       "      <th>2019-01-05</th>\n",
       "      <td>76.455199</td>\n",
       "      <td>101</td>\n",
       "    </tr>\n",
       "    <tr>\n",
       "      <th>2019-01-06</th>\n",
       "      <td>73.947028</td>\n",
       "      <td>99</td>\n",
       "    </tr>\n",
       "  </tbody>\n",
       "</table>\n",
       "</div>"
      ],
      "text/plain": [
       "            yhat_upper  imeca_pred\n",
       "ds                                \n",
       "2019-01-02   80.769698         103\n",
       "2019-01-03   79.659998         102\n",
       "2019-01-04   81.033675         103\n",
       "2019-01-05   76.455199         101\n",
       "2019-01-06   73.947028          99"
      ]
     },
     "execution_count": 22,
     "metadata": {},
     "output_type": "execute_result"
    }
   ],
   "source": [
    "df_pred['imeca_pred']=imeca_calculation(df_pred.yhat_upper)\n",
    "df_pred.head()"
   ]
  },
  {
   "cell_type": "markdown",
   "metadata": {},
   "source": [
    "### Cuauh's IMECA real"
   ]
  },
  {
   "cell_type": "code",
   "execution_count": 23,
   "metadata": {},
   "outputs": [
    {
     "data": {
      "text/html": [
       "<div>\n",
       "<style scoped>\n",
       "    .dataframe tbody tr th:only-of-type {\n",
       "        vertical-align: middle;\n",
       "    }\n",
       "\n",
       "    .dataframe tbody tr th {\n",
       "        vertical-align: top;\n",
       "    }\n",
       "\n",
       "    .dataframe thead th {\n",
       "        text-align: right;\n",
       "    }\n",
       "</style>\n",
       "<table border=\"1\" class=\"dataframe\">\n",
       "  <thead>\n",
       "    <tr style=\"text-align: right;\">\n",
       "      <th></th>\n",
       "      <th>Centro PM25</th>\n",
       "    </tr>\n",
       "    <tr>\n",
       "      <th>DATETIME</th>\n",
       "      <th></th>\n",
       "    </tr>\n",
       "  </thead>\n",
       "  <tbody>\n",
       "    <tr>\n",
       "      <th>2019-01-01</th>\n",
       "      <td>131</td>\n",
       "    </tr>\n",
       "    <tr>\n",
       "      <th>2019-01-02</th>\n",
       "      <td>131</td>\n",
       "    </tr>\n",
       "    <tr>\n",
       "      <th>2019-01-03</th>\n",
       "      <td>103</td>\n",
       "    </tr>\n",
       "    <tr>\n",
       "      <th>2019-01-04</th>\n",
       "      <td>89</td>\n",
       "    </tr>\n",
       "    <tr>\n",
       "      <th>2019-01-05</th>\n",
       "      <td>98</td>\n",
       "    </tr>\n",
       "  </tbody>\n",
       "</table>\n",
       "</div>"
      ],
      "text/plain": [
       "            Centro PM25\n",
       "DATETIME               \n",
       "2019-01-01          131\n",
       "2019-01-02          131\n",
       "2019-01-03          103\n",
       "2019-01-04           89\n",
       "2019-01-05           98"
      ]
     },
     "execution_count": 23,
     "metadata": {},
     "output_type": "execute_result"
    }
   ],
   "source": [
    "cuauh_imeca_max.head()"
   ]
  },
  {
   "cell_type": "code",
   "execution_count": 24,
   "metadata": {},
   "outputs": [
    {
     "data": {
      "text/html": [
       "<div>\n",
       "<style scoped>\n",
       "    .dataframe tbody tr th:only-of-type {\n",
       "        vertical-align: middle;\n",
       "    }\n",
       "\n",
       "    .dataframe tbody tr th {\n",
       "        vertical-align: top;\n",
       "    }\n",
       "\n",
       "    .dataframe thead th {\n",
       "        text-align: right;\n",
       "    }\n",
       "</style>\n",
       "<table border=\"1\" class=\"dataframe\">\n",
       "  <thead>\n",
       "    <tr style=\"text-align: right;\">\n",
       "      <th></th>\n",
       "      <th>yhat_upper</th>\n",
       "      <th>imeca_pred</th>\n",
       "      <th>Centro PM25</th>\n",
       "    </tr>\n",
       "    <tr>\n",
       "      <th>ds</th>\n",
       "      <th></th>\n",
       "      <th></th>\n",
       "      <th></th>\n",
       "    </tr>\n",
       "  </thead>\n",
       "  <tbody>\n",
       "    <tr>\n",
       "      <th>2019-01-02</th>\n",
       "      <td>80.769698</td>\n",
       "      <td>103</td>\n",
       "      <td>131</td>\n",
       "    </tr>\n",
       "    <tr>\n",
       "      <th>2019-01-03</th>\n",
       "      <td>79.659998</td>\n",
       "      <td>102</td>\n",
       "      <td>103</td>\n",
       "    </tr>\n",
       "    <tr>\n",
       "      <th>2019-01-04</th>\n",
       "      <td>81.033675</td>\n",
       "      <td>103</td>\n",
       "      <td>89</td>\n",
       "    </tr>\n",
       "    <tr>\n",
       "      <th>2019-01-05</th>\n",
       "      <td>76.455199</td>\n",
       "      <td>101</td>\n",
       "      <td>98</td>\n",
       "    </tr>\n",
       "    <tr>\n",
       "      <th>2019-01-06</th>\n",
       "      <td>73.947028</td>\n",
       "      <td>99</td>\n",
       "      <td>96</td>\n",
       "    </tr>\n",
       "    <tr>\n",
       "      <th>2019-01-07</th>\n",
       "      <td>75.177565</td>\n",
       "      <td>100</td>\n",
       "      <td>91</td>\n",
       "    </tr>\n",
       "    <tr>\n",
       "      <th>2019-01-08</th>\n",
       "      <td>76.378034</td>\n",
       "      <td>101</td>\n",
       "      <td>88</td>\n",
       "    </tr>\n",
       "    <tr>\n",
       "      <th>2019-01-09</th>\n",
       "      <td>75.717615</td>\n",
       "      <td>101</td>\n",
       "      <td>82</td>\n",
       "    </tr>\n",
       "    <tr>\n",
       "      <th>2019-01-10</th>\n",
       "      <td>69.345076</td>\n",
       "      <td>91</td>\n",
       "      <td>81</td>\n",
       "    </tr>\n",
       "    <tr>\n",
       "      <th>2019-01-11</th>\n",
       "      <td>72.916671</td>\n",
       "      <td>97</td>\n",
       "      <td>78</td>\n",
       "    </tr>\n",
       "  </tbody>\n",
       "</table>\n",
       "</div>"
      ],
      "text/plain": [
       "            yhat_upper  imeca_pred  Centro PM25\n",
       "ds                                             \n",
       "2019-01-02   80.769698         103          131\n",
       "2019-01-03   79.659998         102          103\n",
       "2019-01-04   81.033675         103           89\n",
       "2019-01-05   76.455199         101           98\n",
       "2019-01-06   73.947028          99           96\n",
       "2019-01-07   75.177565         100           91\n",
       "2019-01-08   76.378034         101           88\n",
       "2019-01-09   75.717615         101           82\n",
       "2019-01-10   69.345076          91           81\n",
       "2019-01-11   72.916671          97           78"
      ]
     },
     "execution_count": 24,
     "metadata": {},
     "output_type": "execute_result"
    }
   ],
   "source": [
    "df_comparison=df_pred.join(cuauh_imeca_max)[['yhat_upper','imeca_pred','Centro PM25']]\n",
    "df_comparison.head(10)"
   ]
  },
  {
   "cell_type": "code",
   "execution_count": 25,
   "metadata": {},
   "outputs": [
    {
     "data": {
      "text/html": [
       "<div>\n",
       "<style scoped>\n",
       "    .dataframe tbody tr th:only-of-type {\n",
       "        vertical-align: middle;\n",
       "    }\n",
       "\n",
       "    .dataframe tbody tr th {\n",
       "        vertical-align: top;\n",
       "    }\n",
       "\n",
       "    .dataframe thead th {\n",
       "        text-align: right;\n",
       "    }\n",
       "</style>\n",
       "<table border=\"1\" class=\"dataframe\">\n",
       "  <thead>\n",
       "    <tr style=\"text-align: right;\">\n",
       "      <th></th>\n",
       "      <th>yhat_upper</th>\n",
       "      <th>imeca_pred</th>\n",
       "      <th>Centro PM25</th>\n",
       "      <th>categoria_pred</th>\n",
       "      <th>categoria_real</th>\n",
       "      <th>comparacion_imecas</th>\n",
       "    </tr>\n",
       "    <tr>\n",
       "      <th>ds</th>\n",
       "      <th></th>\n",
       "      <th></th>\n",
       "      <th></th>\n",
       "      <th></th>\n",
       "      <th></th>\n",
       "      <th></th>\n",
       "    </tr>\n",
       "  </thead>\n",
       "  <tbody>\n",
       "    <tr>\n",
       "      <th>2019-01-02</th>\n",
       "      <td>80.769698</td>\n",
       "      <td>103</td>\n",
       "      <td>131</td>\n",
       "      <td>Mala</td>\n",
       "      <td>Mala</td>\n",
       "      <td>1</td>\n",
       "    </tr>\n",
       "    <tr>\n",
       "      <th>2019-01-03</th>\n",
       "      <td>79.659998</td>\n",
       "      <td>102</td>\n",
       "      <td>103</td>\n",
       "      <td>Mala</td>\n",
       "      <td>Mala</td>\n",
       "      <td>1</td>\n",
       "    </tr>\n",
       "    <tr>\n",
       "      <th>2019-01-04</th>\n",
       "      <td>81.033675</td>\n",
       "      <td>103</td>\n",
       "      <td>89</td>\n",
       "      <td>Mala</td>\n",
       "      <td>Regular</td>\n",
       "      <td>0</td>\n",
       "    </tr>\n",
       "    <tr>\n",
       "      <th>2019-01-05</th>\n",
       "      <td>76.455199</td>\n",
       "      <td>101</td>\n",
       "      <td>98</td>\n",
       "      <td>Mala</td>\n",
       "      <td>Regular</td>\n",
       "      <td>0</td>\n",
       "    </tr>\n",
       "    <tr>\n",
       "      <th>2019-01-06</th>\n",
       "      <td>73.947028</td>\n",
       "      <td>99</td>\n",
       "      <td>96</td>\n",
       "      <td>Regular</td>\n",
       "      <td>Regular</td>\n",
       "      <td>1</td>\n",
       "    </tr>\n",
       "    <tr>\n",
       "      <th>2019-01-07</th>\n",
       "      <td>75.177565</td>\n",
       "      <td>100</td>\n",
       "      <td>91</td>\n",
       "      <td>Mala</td>\n",
       "      <td>Regular</td>\n",
       "      <td>0</td>\n",
       "    </tr>\n",
       "    <tr>\n",
       "      <th>2019-01-08</th>\n",
       "      <td>76.378034</td>\n",
       "      <td>101</td>\n",
       "      <td>88</td>\n",
       "      <td>Mala</td>\n",
       "      <td>Regular</td>\n",
       "      <td>0</td>\n",
       "    </tr>\n",
       "    <tr>\n",
       "      <th>2019-01-09</th>\n",
       "      <td>75.717615</td>\n",
       "      <td>101</td>\n",
       "      <td>82</td>\n",
       "      <td>Mala</td>\n",
       "      <td>Regular</td>\n",
       "      <td>0</td>\n",
       "    </tr>\n",
       "    <tr>\n",
       "      <th>2019-01-10</th>\n",
       "      <td>69.345076</td>\n",
       "      <td>91</td>\n",
       "      <td>81</td>\n",
       "      <td>Regular</td>\n",
       "      <td>Regular</td>\n",
       "      <td>1</td>\n",
       "    </tr>\n",
       "    <tr>\n",
       "      <th>2019-01-11</th>\n",
       "      <td>72.916671</td>\n",
       "      <td>97</td>\n",
       "      <td>78</td>\n",
       "      <td>Regular</td>\n",
       "      <td>Regular</td>\n",
       "      <td>1</td>\n",
       "    </tr>\n",
       "  </tbody>\n",
       "</table>\n",
       "</div>"
      ],
      "text/plain": [
       "            yhat_upper  imeca_pred  Centro PM25 categoria_pred categoria_real  \\\n",
       "ds                                                                              \n",
       "2019-01-02   80.769698         103          131           Mala           Mala   \n",
       "2019-01-03   79.659998         102          103           Mala           Mala   \n",
       "2019-01-04   81.033675         103           89           Mala        Regular   \n",
       "2019-01-05   76.455199         101           98           Mala        Regular   \n",
       "2019-01-06   73.947028          99           96        Regular        Regular   \n",
       "2019-01-07   75.177565         100           91           Mala        Regular   \n",
       "2019-01-08   76.378034         101           88           Mala        Regular   \n",
       "2019-01-09   75.717615         101           82           Mala        Regular   \n",
       "2019-01-10   69.345076          91           81        Regular        Regular   \n",
       "2019-01-11   72.916671          97           78        Regular        Regular   \n",
       "\n",
       "            comparacion_imecas  \n",
       "ds                              \n",
       "2019-01-02                   1  \n",
       "2019-01-03                   1  \n",
       "2019-01-04                   0  \n",
       "2019-01-05                   0  \n",
       "2019-01-06                   1  \n",
       "2019-01-07                   0  \n",
       "2019-01-08                   0  \n",
       "2019-01-09                   0  \n",
       "2019-01-10                   1  \n",
       "2019-01-11                   1  "
      ]
     },
     "execution_count": 25,
     "metadata": {},
     "output_type": "execute_result"
    }
   ],
   "source": [
    "df_comparison['categoria_pred']=categorizando(df_comparison.imeca_pred)\n",
    "df_comparison['categoria_real']=categorizando(df_comparison['Centro PM25'])\n",
    "df_comparison['comparacion_imecas']=comparando_categorias(df_comparison.categoria_pred,df_comparison.categoria_real)\n",
    "df_comparison.head(10)"
   ]
  },
  {
   "cell_type": "code",
   "execution_count": 26,
   "metadata": {},
   "outputs": [
    {
     "data": {
      "text/plain": [
       "1    203\n",
       "0     51\n",
       "Name: comparacion_imecas, dtype: int64"
      ]
     },
     "execution_count": 26,
     "metadata": {},
     "output_type": "execute_result"
    }
   ],
   "source": [
    "df_comparison.comparacion_imecas.value_counts()"
   ]
  },
  {
   "cell_type": "code",
   "execution_count": 28,
   "metadata": {},
   "outputs": [
    {
     "data": {
      "text/plain": [
       "0.7992125984251969"
      ]
     },
     "execution_count": 28,
     "metadata": {},
     "output_type": "execute_result"
    }
   ],
   "source": [
    "203/254"
   ]
  },
  {
   "cell_type": "code",
   "execution_count": 29,
   "metadata": {
    "scrolled": false
   },
   "outputs": [
    {
     "data": {
      "text/html": [
       "<div>\n",
       "<style scoped>\n",
       "    .dataframe tbody tr th:only-of-type {\n",
       "        vertical-align: middle;\n",
       "    }\n",
       "\n",
       "    .dataframe tbody tr th {\n",
       "        vertical-align: top;\n",
       "    }\n",
       "\n",
       "    .dataframe thead th {\n",
       "        text-align: right;\n",
       "    }\n",
       "</style>\n",
       "<table border=\"1\" class=\"dataframe\">\n",
       "  <thead>\n",
       "    <tr style=\"text-align: right;\">\n",
       "      <th></th>\n",
       "      <th>yhat_upper</th>\n",
       "      <th>imeca_pred</th>\n",
       "      <th>Centro PM25</th>\n",
       "      <th>categoria_pred</th>\n",
       "      <th>categoria_real</th>\n",
       "      <th>comparacion_imecas</th>\n",
       "    </tr>\n",
       "    <tr>\n",
       "      <th>ds</th>\n",
       "      <th></th>\n",
       "      <th></th>\n",
       "      <th></th>\n",
       "      <th></th>\n",
       "      <th></th>\n",
       "      <th></th>\n",
       "    </tr>\n",
       "  </thead>\n",
       "  <tbody>\n",
       "    <tr>\n",
       "      <th>2019-01-02</th>\n",
       "      <td>80.769698</td>\n",
       "      <td>103</td>\n",
       "      <td>131</td>\n",
       "      <td>Mala</td>\n",
       "      <td>Mala</td>\n",
       "      <td>1</td>\n",
       "    </tr>\n",
       "    <tr>\n",
       "      <th>2019-01-03</th>\n",
       "      <td>79.659998</td>\n",
       "      <td>102</td>\n",
       "      <td>103</td>\n",
       "      <td>Mala</td>\n",
       "      <td>Mala</td>\n",
       "      <td>1</td>\n",
       "    </tr>\n",
       "    <tr>\n",
       "      <th>2019-01-04</th>\n",
       "      <td>81.033675</td>\n",
       "      <td>103</td>\n",
       "      <td>89</td>\n",
       "      <td>Mala</td>\n",
       "      <td>Regular</td>\n",
       "      <td>0</td>\n",
       "    </tr>\n",
       "    <tr>\n",
       "      <th>2019-01-05</th>\n",
       "      <td>76.455199</td>\n",
       "      <td>101</td>\n",
       "      <td>98</td>\n",
       "      <td>Mala</td>\n",
       "      <td>Regular</td>\n",
       "      <td>0</td>\n",
       "    </tr>\n",
       "    <tr>\n",
       "      <th>2019-01-06</th>\n",
       "      <td>73.947028</td>\n",
       "      <td>99</td>\n",
       "      <td>96</td>\n",
       "      <td>Regular</td>\n",
       "      <td>Regular</td>\n",
       "      <td>1</td>\n",
       "    </tr>\n",
       "  </tbody>\n",
       "</table>\n",
       "</div>"
      ],
      "text/plain": [
       "            yhat_upper  imeca_pred  Centro PM25 categoria_pred categoria_real  \\\n",
       "ds                                                                              \n",
       "2019-01-02   80.769698         103          131           Mala           Mala   \n",
       "2019-01-03   79.659998         102          103           Mala           Mala   \n",
       "2019-01-04   81.033675         103           89           Mala        Regular   \n",
       "2019-01-05   76.455199         101           98           Mala        Regular   \n",
       "2019-01-06   73.947028          99           96        Regular        Regular   \n",
       "\n",
       "            comparacion_imecas  \n",
       "ds                              \n",
       "2019-01-02                   1  \n",
       "2019-01-03                   1  \n",
       "2019-01-04                   0  \n",
       "2019-01-05                   0  \n",
       "2019-01-06                   1  "
      ]
     },
     "execution_count": 29,
     "metadata": {},
     "output_type": "execute_result"
    }
   ],
   "source": [
    "df_comparison.head()"
   ]
  },
  {
   "cell_type": "markdown",
   "metadata": {},
   "source": [
    "## Comparación modelo 2"
   ]
  },
  {
   "cell_type": "markdown",
   "metadata": {},
   "source": [
    "### Predicción"
   ]
  },
  {
   "cell_type": "code",
   "execution_count": 115,
   "metadata": {},
   "outputs": [],
   "source": [
    "df_pred2=pd.DataFrame(pred2[['ds','yhat_upper']])\n",
    "df_pred2=df_pred2.set_index('ds')"
   ]
  },
  {
   "cell_type": "code",
   "execution_count": 116,
   "metadata": {},
   "outputs": [
    {
     "data": {
      "text/html": [
       "<div>\n",
       "<style scoped>\n",
       "    .dataframe tbody tr th:only-of-type {\n",
       "        vertical-align: middle;\n",
       "    }\n",
       "\n",
       "    .dataframe tbody tr th {\n",
       "        vertical-align: top;\n",
       "    }\n",
       "\n",
       "    .dataframe thead th {\n",
       "        text-align: right;\n",
       "    }\n",
       "</style>\n",
       "<table border=\"1\" class=\"dataframe\">\n",
       "  <thead>\n",
       "    <tr style=\"text-align: right;\">\n",
       "      <th></th>\n",
       "      <th>yhat_upper</th>\n",
       "    </tr>\n",
       "    <tr>\n",
       "      <th>ds</th>\n",
       "      <th></th>\n",
       "    </tr>\n",
       "  </thead>\n",
       "  <tbody>\n",
       "    <tr>\n",
       "      <th>2019-01-02</th>\n",
       "      <td>84.159655</td>\n",
       "    </tr>\n",
       "    <tr>\n",
       "      <th>2019-01-03</th>\n",
       "      <td>83.602251</td>\n",
       "    </tr>\n",
       "    <tr>\n",
       "      <th>2019-01-04</th>\n",
       "      <td>85.204089</td>\n",
       "    </tr>\n",
       "    <tr>\n",
       "      <th>2019-01-05</th>\n",
       "      <td>79.797183</td>\n",
       "    </tr>\n",
       "    <tr>\n",
       "      <th>2019-01-06</th>\n",
       "      <td>78.961582</td>\n",
       "    </tr>\n",
       "    <tr>\n",
       "      <th>2019-01-07</th>\n",
       "      <td>76.790118</td>\n",
       "    </tr>\n",
       "    <tr>\n",
       "      <th>2019-01-08</th>\n",
       "      <td>79.037898</td>\n",
       "    </tr>\n",
       "    <tr>\n",
       "      <th>2019-01-09</th>\n",
       "      <td>75.777616</td>\n",
       "    </tr>\n",
       "    <tr>\n",
       "      <th>2019-01-10</th>\n",
       "      <td>74.303557</td>\n",
       "    </tr>\n",
       "    <tr>\n",
       "      <th>2019-01-11</th>\n",
       "      <td>76.384447</td>\n",
       "    </tr>\n",
       "  </tbody>\n",
       "</table>\n",
       "</div>"
      ],
      "text/plain": [
       "            yhat_upper\n",
       "ds                    \n",
       "2019-01-02   84.159655\n",
       "2019-01-03   83.602251\n",
       "2019-01-04   85.204089\n",
       "2019-01-05   79.797183\n",
       "2019-01-06   78.961582\n",
       "2019-01-07   76.790118\n",
       "2019-01-08   79.037898\n",
       "2019-01-09   75.777616\n",
       "2019-01-10   74.303557\n",
       "2019-01-11   76.384447"
      ]
     },
     "execution_count": 116,
     "metadata": {},
     "output_type": "execute_result"
    }
   ],
   "source": [
    "df_pred2.head(10)"
   ]
  },
  {
   "cell_type": "code",
   "execution_count": 117,
   "metadata": {},
   "outputs": [
    {
     "data": {
      "text/plain": [
       "(254, 1)"
      ]
     },
     "execution_count": 117,
     "metadata": {},
     "output_type": "execute_result"
    }
   ],
   "source": [
    "df_pred2.shape"
   ]
  },
  {
   "cell_type": "code",
   "execution_count": 118,
   "metadata": {},
   "outputs": [],
   "source": [
    "df_pred2.isnull().sum() #13 NANs\n",
    "df_pred2=df_pred2.dropna()"
   ]
  },
  {
   "cell_type": "code",
   "execution_count": 119,
   "metadata": {},
   "outputs": [
    {
     "data": {
      "text/plain": [
       "(254, 1)"
      ]
     },
     "execution_count": 119,
     "metadata": {},
     "output_type": "execute_result"
    }
   ],
   "source": [
    "df_pred2.shape"
   ]
  },
  {
   "cell_type": "code",
   "execution_count": 120,
   "metadata": {},
   "outputs": [
    {
     "data": {
      "text/html": [
       "<div>\n",
       "<style scoped>\n",
       "    .dataframe tbody tr th:only-of-type {\n",
       "        vertical-align: middle;\n",
       "    }\n",
       "\n",
       "    .dataframe tbody tr th {\n",
       "        vertical-align: top;\n",
       "    }\n",
       "\n",
       "    .dataframe thead th {\n",
       "        text-align: right;\n",
       "    }\n",
       "</style>\n",
       "<table border=\"1\" class=\"dataframe\">\n",
       "  <thead>\n",
       "    <tr style=\"text-align: right;\">\n",
       "      <th></th>\n",
       "      <th>yhat_upper</th>\n",
       "      <th>imeca_pred</th>\n",
       "    </tr>\n",
       "    <tr>\n",
       "      <th>ds</th>\n",
       "      <th></th>\n",
       "      <th></th>\n",
       "    </tr>\n",
       "  </thead>\n",
       "  <tbody>\n",
       "    <tr>\n",
       "      <th>2019-01-02</th>\n",
       "      <td>84.159655</td>\n",
       "      <td>104</td>\n",
       "    </tr>\n",
       "    <tr>\n",
       "      <th>2019-01-03</th>\n",
       "      <td>83.602251</td>\n",
       "      <td>104</td>\n",
       "    </tr>\n",
       "    <tr>\n",
       "      <th>2019-01-04</th>\n",
       "      <td>85.204089</td>\n",
       "      <td>104</td>\n",
       "    </tr>\n",
       "    <tr>\n",
       "      <th>2019-01-05</th>\n",
       "      <td>79.797183</td>\n",
       "      <td>102</td>\n",
       "    </tr>\n",
       "    <tr>\n",
       "      <th>2019-01-06</th>\n",
       "      <td>78.961582</td>\n",
       "      <td>102</td>\n",
       "    </tr>\n",
       "  </tbody>\n",
       "</table>\n",
       "</div>"
      ],
      "text/plain": [
       "            yhat_upper  imeca_pred\n",
       "ds                                \n",
       "2019-01-02   84.159655         104\n",
       "2019-01-03   83.602251         104\n",
       "2019-01-04   85.204089         104\n",
       "2019-01-05   79.797183         102\n",
       "2019-01-06   78.961582         102"
      ]
     },
     "execution_count": 120,
     "metadata": {},
     "output_type": "execute_result"
    }
   ],
   "source": [
    "df_pred2['imeca_pred']=imeca_calculation(df_pred2.yhat_upper)\n",
    "df_pred2.head()"
   ]
  },
  {
   "cell_type": "markdown",
   "metadata": {},
   "source": [
    "### Cuauh's IMECA real"
   ]
  },
  {
   "cell_type": "code",
   "execution_count": 121,
   "metadata": {},
   "outputs": [
    {
     "data": {
      "text/html": [
       "<div>\n",
       "<style scoped>\n",
       "    .dataframe tbody tr th:only-of-type {\n",
       "        vertical-align: middle;\n",
       "    }\n",
       "\n",
       "    .dataframe tbody tr th {\n",
       "        vertical-align: top;\n",
       "    }\n",
       "\n",
       "    .dataframe thead th {\n",
       "        text-align: right;\n",
       "    }\n",
       "</style>\n",
       "<table border=\"1\" class=\"dataframe\">\n",
       "  <thead>\n",
       "    <tr style=\"text-align: right;\">\n",
       "      <th></th>\n",
       "      <th>Centro PM25</th>\n",
       "    </tr>\n",
       "    <tr>\n",
       "      <th>DATETIME</th>\n",
       "      <th></th>\n",
       "    </tr>\n",
       "  </thead>\n",
       "  <tbody>\n",
       "    <tr>\n",
       "      <th>2019-01-01</th>\n",
       "      <td>114.541667</td>\n",
       "    </tr>\n",
       "    <tr>\n",
       "      <th>2019-01-02</th>\n",
       "      <td>110.708333</td>\n",
       "    </tr>\n",
       "    <tr>\n",
       "      <th>2019-01-03</th>\n",
       "      <td>88.541667</td>\n",
       "    </tr>\n",
       "    <tr>\n",
       "      <th>2019-01-04</th>\n",
       "      <td>85.791667</td>\n",
       "    </tr>\n",
       "    <tr>\n",
       "      <th>2019-01-05</th>\n",
       "      <td>91.416667</td>\n",
       "    </tr>\n",
       "  </tbody>\n",
       "</table>\n",
       "</div>"
      ],
      "text/plain": [
       "            Centro PM25\n",
       "DATETIME               \n",
       "2019-01-01   114.541667\n",
       "2019-01-02   110.708333\n",
       "2019-01-03    88.541667\n",
       "2019-01-04    85.791667\n",
       "2019-01-05    91.416667"
      ]
     },
     "execution_count": 121,
     "metadata": {},
     "output_type": "execute_result"
    }
   ],
   "source": [
    "cuauh_imeca_mean.head()"
   ]
  },
  {
   "cell_type": "code",
   "execution_count": 122,
   "metadata": {},
   "outputs": [
    {
     "data": {
      "text/html": [
       "<div>\n",
       "<style scoped>\n",
       "    .dataframe tbody tr th:only-of-type {\n",
       "        vertical-align: middle;\n",
       "    }\n",
       "\n",
       "    .dataframe tbody tr th {\n",
       "        vertical-align: top;\n",
       "    }\n",
       "\n",
       "    .dataframe thead th {\n",
       "        text-align: right;\n",
       "    }\n",
       "</style>\n",
       "<table border=\"1\" class=\"dataframe\">\n",
       "  <thead>\n",
       "    <tr style=\"text-align: right;\">\n",
       "      <th></th>\n",
       "      <th>yhat_upper</th>\n",
       "      <th>imeca_pred</th>\n",
       "      <th>Centro PM25</th>\n",
       "    </tr>\n",
       "    <tr>\n",
       "      <th>ds</th>\n",
       "      <th></th>\n",
       "      <th></th>\n",
       "      <th></th>\n",
       "    </tr>\n",
       "  </thead>\n",
       "  <tbody>\n",
       "    <tr>\n",
       "      <th>2019-01-02</th>\n",
       "      <td>84.159655</td>\n",
       "      <td>104</td>\n",
       "      <td>110.708333</td>\n",
       "    </tr>\n",
       "    <tr>\n",
       "      <th>2019-01-03</th>\n",
       "      <td>83.602251</td>\n",
       "      <td>104</td>\n",
       "      <td>88.541667</td>\n",
       "    </tr>\n",
       "    <tr>\n",
       "      <th>2019-01-04</th>\n",
       "      <td>85.204089</td>\n",
       "      <td>104</td>\n",
       "      <td>85.791667</td>\n",
       "    </tr>\n",
       "    <tr>\n",
       "      <th>2019-01-05</th>\n",
       "      <td>79.797183</td>\n",
       "      <td>102</td>\n",
       "      <td>91.416667</td>\n",
       "    </tr>\n",
       "    <tr>\n",
       "      <th>2019-01-06</th>\n",
       "      <td>78.961582</td>\n",
       "      <td>102</td>\n",
       "      <td>87.250000</td>\n",
       "    </tr>\n",
       "    <tr>\n",
       "      <th>2019-01-07</th>\n",
       "      <td>76.790118</td>\n",
       "      <td>101</td>\n",
       "      <td>86.791667</td>\n",
       "    </tr>\n",
       "    <tr>\n",
       "      <th>2019-01-08</th>\n",
       "      <td>79.037898</td>\n",
       "      <td>102</td>\n",
       "      <td>82.166667</td>\n",
       "    </tr>\n",
       "    <tr>\n",
       "      <th>2019-01-09</th>\n",
       "      <td>75.777616</td>\n",
       "      <td>101</td>\n",
       "      <td>79.250000</td>\n",
       "    </tr>\n",
       "    <tr>\n",
       "      <th>2019-01-10</th>\n",
       "      <td>74.303557</td>\n",
       "      <td>99</td>\n",
       "      <td>71.166667</td>\n",
       "    </tr>\n",
       "    <tr>\n",
       "      <th>2019-01-11</th>\n",
       "      <td>76.384447</td>\n",
       "      <td>101</td>\n",
       "      <td>74.250000</td>\n",
       "    </tr>\n",
       "  </tbody>\n",
       "</table>\n",
       "</div>"
      ],
      "text/plain": [
       "            yhat_upper  imeca_pred  Centro PM25\n",
       "ds                                             \n",
       "2019-01-02   84.159655         104   110.708333\n",
       "2019-01-03   83.602251         104    88.541667\n",
       "2019-01-04   85.204089         104    85.791667\n",
       "2019-01-05   79.797183         102    91.416667\n",
       "2019-01-06   78.961582         102    87.250000\n",
       "2019-01-07   76.790118         101    86.791667\n",
       "2019-01-08   79.037898         102    82.166667\n",
       "2019-01-09   75.777616         101    79.250000\n",
       "2019-01-10   74.303557          99    71.166667\n",
       "2019-01-11   76.384447         101    74.250000"
      ]
     },
     "execution_count": 122,
     "metadata": {},
     "output_type": "execute_result"
    }
   ],
   "source": [
    "df_comparison=df_pred2.join(cuauh_imeca_mean)[['yhat_upper','imeca_pred','Centro PM25']]\n",
    "df_comparison.head(10)"
   ]
  },
  {
   "cell_type": "code",
   "execution_count": 123,
   "metadata": {},
   "outputs": [
    {
     "data": {
      "text/html": [
       "<div>\n",
       "<style scoped>\n",
       "    .dataframe tbody tr th:only-of-type {\n",
       "        vertical-align: middle;\n",
       "    }\n",
       "\n",
       "    .dataframe tbody tr th {\n",
       "        vertical-align: top;\n",
       "    }\n",
       "\n",
       "    .dataframe thead th {\n",
       "        text-align: right;\n",
       "    }\n",
       "</style>\n",
       "<table border=\"1\" class=\"dataframe\">\n",
       "  <thead>\n",
       "    <tr style=\"text-align: right;\">\n",
       "      <th></th>\n",
       "      <th>yhat_upper</th>\n",
       "      <th>imeca_pred</th>\n",
       "      <th>Centro PM25</th>\n",
       "      <th>categoria_pred</th>\n",
       "      <th>categoria_real</th>\n",
       "      <th>comparacion_imecas</th>\n",
       "    </tr>\n",
       "    <tr>\n",
       "      <th>ds</th>\n",
       "      <th></th>\n",
       "      <th></th>\n",
       "      <th></th>\n",
       "      <th></th>\n",
       "      <th></th>\n",
       "      <th></th>\n",
       "    </tr>\n",
       "  </thead>\n",
       "  <tbody>\n",
       "    <tr>\n",
       "      <th>2019-01-02</th>\n",
       "      <td>84.159655</td>\n",
       "      <td>104</td>\n",
       "      <td>110.708333</td>\n",
       "      <td>Mala</td>\n",
       "      <td>Mala</td>\n",
       "      <td>1</td>\n",
       "    </tr>\n",
       "    <tr>\n",
       "      <th>2019-01-03</th>\n",
       "      <td>83.602251</td>\n",
       "      <td>104</td>\n",
       "      <td>88.541667</td>\n",
       "      <td>Mala</td>\n",
       "      <td>Regular</td>\n",
       "      <td>0</td>\n",
       "    </tr>\n",
       "    <tr>\n",
       "      <th>2019-01-04</th>\n",
       "      <td>85.204089</td>\n",
       "      <td>104</td>\n",
       "      <td>85.791667</td>\n",
       "      <td>Mala</td>\n",
       "      <td>Regular</td>\n",
       "      <td>0</td>\n",
       "    </tr>\n",
       "    <tr>\n",
       "      <th>2019-01-05</th>\n",
       "      <td>79.797183</td>\n",
       "      <td>102</td>\n",
       "      <td>91.416667</td>\n",
       "      <td>Mala</td>\n",
       "      <td>Regular</td>\n",
       "      <td>0</td>\n",
       "    </tr>\n",
       "    <tr>\n",
       "      <th>2019-01-06</th>\n",
       "      <td>78.961582</td>\n",
       "      <td>102</td>\n",
       "      <td>87.250000</td>\n",
       "      <td>Mala</td>\n",
       "      <td>Regular</td>\n",
       "      <td>0</td>\n",
       "    </tr>\n",
       "    <tr>\n",
       "      <th>2019-01-07</th>\n",
       "      <td>76.790118</td>\n",
       "      <td>101</td>\n",
       "      <td>86.791667</td>\n",
       "      <td>Mala</td>\n",
       "      <td>Regular</td>\n",
       "      <td>0</td>\n",
       "    </tr>\n",
       "    <tr>\n",
       "      <th>2019-01-08</th>\n",
       "      <td>79.037898</td>\n",
       "      <td>102</td>\n",
       "      <td>82.166667</td>\n",
       "      <td>Mala</td>\n",
       "      <td>Regular</td>\n",
       "      <td>0</td>\n",
       "    </tr>\n",
       "    <tr>\n",
       "      <th>2019-01-09</th>\n",
       "      <td>75.777616</td>\n",
       "      <td>101</td>\n",
       "      <td>79.250000</td>\n",
       "      <td>Mala</td>\n",
       "      <td>Regular</td>\n",
       "      <td>0</td>\n",
       "    </tr>\n",
       "    <tr>\n",
       "      <th>2019-01-10</th>\n",
       "      <td>74.303557</td>\n",
       "      <td>99</td>\n",
       "      <td>71.166667</td>\n",
       "      <td>Regular</td>\n",
       "      <td>Regular</td>\n",
       "      <td>1</td>\n",
       "    </tr>\n",
       "    <tr>\n",
       "      <th>2019-01-11</th>\n",
       "      <td>76.384447</td>\n",
       "      <td>101</td>\n",
       "      <td>74.250000</td>\n",
       "      <td>Mala</td>\n",
       "      <td>Regular</td>\n",
       "      <td>0</td>\n",
       "    </tr>\n",
       "  </tbody>\n",
       "</table>\n",
       "</div>"
      ],
      "text/plain": [
       "            yhat_upper  imeca_pred  Centro PM25 categoria_pred categoria_real  \\\n",
       "ds                                                                              \n",
       "2019-01-02   84.159655         104   110.708333           Mala           Mala   \n",
       "2019-01-03   83.602251         104    88.541667           Mala        Regular   \n",
       "2019-01-04   85.204089         104    85.791667           Mala        Regular   \n",
       "2019-01-05   79.797183         102    91.416667           Mala        Regular   \n",
       "2019-01-06   78.961582         102    87.250000           Mala        Regular   \n",
       "2019-01-07   76.790118         101    86.791667           Mala        Regular   \n",
       "2019-01-08   79.037898         102    82.166667           Mala        Regular   \n",
       "2019-01-09   75.777616         101    79.250000           Mala        Regular   \n",
       "2019-01-10   74.303557          99    71.166667        Regular        Regular   \n",
       "2019-01-11   76.384447         101    74.250000           Mala        Regular   \n",
       "\n",
       "            comparacion_imecas  \n",
       "ds                              \n",
       "2019-01-02                   1  \n",
       "2019-01-03                   0  \n",
       "2019-01-04                   0  \n",
       "2019-01-05                   0  \n",
       "2019-01-06                   0  \n",
       "2019-01-07                   0  \n",
       "2019-01-08                   0  \n",
       "2019-01-09                   0  \n",
       "2019-01-10                   1  \n",
       "2019-01-11                   0  "
      ]
     },
     "execution_count": 123,
     "metadata": {},
     "output_type": "execute_result"
    }
   ],
   "source": [
    "df_comparison['categoria_pred']=categorizando(df_comparison.imeca_pred)\n",
    "df_comparison['categoria_real']=categorizando(df_comparison['Centro PM25'])\n",
    "df_comparison['comparacion_imecas']=comparando_categorias(df_comparison.categoria_pred,df_comparison.categoria_real)\n",
    "df_comparison.head(10)"
   ]
  },
  {
   "cell_type": "code",
   "execution_count": 124,
   "metadata": {},
   "outputs": [
    {
     "data": {
      "text/plain": [
       "1    169\n",
       "0     85\n",
       "Name: comparacion_imecas, dtype: int64"
      ]
     },
     "execution_count": 124,
     "metadata": {},
     "output_type": "execute_result"
    }
   ],
   "source": [
    "df_comparison.comparacion_imecas.value_counts()"
   ]
  },
  {
   "cell_type": "code",
   "execution_count": 125,
   "metadata": {},
   "outputs": [
    {
     "data": {
      "text/plain": [
       "0.6653543307086615"
      ]
     },
     "execution_count": 125,
     "metadata": {},
     "output_type": "execute_result"
    }
   ],
   "source": [
    "169/254"
   ]
  },
  {
   "cell_type": "code",
   "execution_count": null,
   "metadata": {
    "scrolled": false
   },
   "outputs": [],
   "source": [
    "df_comparison.head()"
   ]
  },
  {
   "cell_type": "code",
   "execution_count": null,
   "metadata": {},
   "outputs": [],
   "source": []
  }
 ],
 "metadata": {
  "kernelspec": {
   "display_name": "Python 3",
   "language": "python",
   "name": "python3"
  },
  "language_info": {
   "codemirror_mode": {
    "name": "ipython",
    "version": 3
   },
   "file_extension": ".py",
   "mimetype": "text/x-python",
   "name": "python",
   "nbconvert_exporter": "python",
   "pygments_lexer": "ipython3",
   "version": "3.7.3"
  }
 },
 "nbformat": 4,
 "nbformat_minor": 2
}
