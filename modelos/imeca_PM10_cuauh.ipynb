{
 "cells": [
  {
   "cell_type": "markdown",
   "metadata": {},
   "source": [
    "# IMECA's Cuauh"
   ]
  },
  {
   "cell_type": "code",
   "execution_count": 1,
   "metadata": {},
   "outputs": [],
   "source": [
    "import numpy as np\n",
    "import pandas as pd\n",
    "import seaborn as sns\n",
    "import matplotlib.pyplot as plt\n",
    "from fbprophet import Prophet\n",
    "from fbprophet.diagnostics import cross_validation\n",
    "from sklearn.metrics import mean_squared_error, mean_absolute_error\n",
    "import warnings\n",
    "warnings.simplefilter(\"ignore\")\n",
    "\n",
    "plt.style.use('bmh')"
   ]
  },
  {
   "cell_type": "code",
   "execution_count": 2,
   "metadata": {},
   "outputs": [],
   "source": [
    "#help(Prophet)"
   ]
  },
  {
   "cell_type": "code",
   "execution_count": 3,
   "metadata": {},
   "outputs": [],
   "source": [
    "def mape(y_true, y_pred):\n",
    "    y_true, y_pred=np.array(y_true), np.array(y_pred)\n",
    "    return np.mean(np.abs((y_true-y_pred)/y_true))*100\n",
    "\n",
    "def smape(y_true,y_pred):\n",
    "    return ((y_true - y_pred).abs() / (y_true.abs() + y_pred.abs())).mean() * 200"
   ]
  },
  {
   "cell_type": "code",
   "execution_count": 4,
   "metadata": {},
   "outputs": [],
   "source": [
    "def imeca_calculation(a):\n",
    "    imeca = []\n",
    "    for e in a:\n",
    "        e=round(e)\n",
    "        if (e>0)&(e<=40):\n",
    "            k= (50-0)/(40-0)\n",
    "            im=k*(e-0) + 0\n",
    "            imeca.append(round(im))\n",
    "\n",
    "        elif (e>=41) & (e<=75):\n",
    "            k=(100-51)/(75-41)\n",
    "            im=k*(e-41) + 51\n",
    "            imeca.append(round(im))\n",
    "\n",
    "        elif (e>=76) & (e<=214):\n",
    "            k=(150-101)/(214-76)\n",
    "            im=k*(e-76) + 101\n",
    "            imeca.append(round(im))\n",
    "\n",
    "        elif (e>=215) & (e<=354):\n",
    "            k=(200-151)/(354-215)\n",
    "            im=k*(e-215) + 151\n",
    "            imeca.append(round(im))\n",
    "\n",
    "        elif (e>=355) & (e<=424):\n",
    "            k=(300-201)/(424-355)\n",
    "            im=k*(e-355) + 201\n",
    "            imeca.append(round(im))\n",
    "\n",
    "    return imeca"
   ]
  },
  {
   "cell_type": "code",
   "execution_count": 5,
   "metadata": {},
   "outputs": [],
   "source": [
    "def categorizando(df):\n",
    "    lst=[]\n",
    "    for e in df:\n",
    "        if (e>=0) & (e<50):\n",
    "            lst.append('Buena')\n",
    "        elif (e>=50) & (e<100):\n",
    "            lst.append('Regular')\n",
    "        elif (e>=100) & (e<150):\n",
    "            lst.append('Mala')\n",
    "        elif (e>=150) & (e<200):\n",
    "            lst.append('Muy mala')\n",
    "        else:\n",
    "            lst.append('Ya vete de aquí woe')\n",
    "    return lst"
   ]
  },
  {
   "cell_type": "code",
   "execution_count": 6,
   "metadata": {},
   "outputs": [],
   "source": [
    "def comparando_categorias(a,b):\n",
    "    lst=[]\n",
    "    for e in range(len(a)):\n",
    "        if a[e] == b[e]:\n",
    "            lst.append(1)\n",
    "        else:\n",
    "            lst.append(0)\n",
    "    return lst"
   ]
  },
  {
   "cell_type": "markdown",
   "metadata": {},
   "source": [
    "### Leyendo CSV de IMECA's directos"
   ]
  },
  {
   "cell_type": "code",
   "execution_count": 7,
   "metadata": {},
   "outputs": [],
   "source": [
    "cuauh_imeca_real = pd.read_excel(\"../data_aircdmx/imeca2019.xls\")"
   ]
  },
  {
   "cell_type": "code",
   "execution_count": 8,
   "metadata": {},
   "outputs": [
    {
     "data": {
      "text/plain": [
       "0   2019-01-01\n",
       "1   2019-01-01\n",
       "2   2019-01-01\n",
       "3   2019-01-01\n",
       "4   2019-01-01\n",
       "Name: Fecha, dtype: datetime64[ns]"
      ]
     },
     "execution_count": 8,
     "metadata": {},
     "output_type": "execute_result"
    }
   ],
   "source": [
    "cuauh_imeca_real.Fecha.head()"
   ]
  },
  {
   "cell_type": "code",
   "execution_count": 9,
   "metadata": {},
   "outputs": [
    {
     "data": {
      "text/html": [
       "<div>\n",
       "<style scoped>\n",
       "    .dataframe tbody tr th:only-of-type {\n",
       "        vertical-align: middle;\n",
       "    }\n",
       "\n",
       "    .dataframe tbody tr th {\n",
       "        vertical-align: top;\n",
       "    }\n",
       "\n",
       "    .dataframe thead th {\n",
       "        text-align: right;\n",
       "    }\n",
       "</style>\n",
       "<table border=\"1\" class=\"dataframe\">\n",
       "  <thead>\n",
       "    <tr style=\"text-align: right;\">\n",
       "      <th></th>\n",
       "      <th>Fecha</th>\n",
       "      <th>Hora</th>\n",
       "      <th>Noroeste ozono</th>\n",
       "      <th>Noroeste dióxido de azufre</th>\n",
       "      <th>Noroeste dióxido de nitrógeno</th>\n",
       "      <th>Noroeste monóxido de carbono</th>\n",
       "      <th>Noroeste PM10</th>\n",
       "      <th>Noroeste PM25</th>\n",
       "      <th>Noreste ozono</th>\n",
       "      <th>Noreste dióxido de azufre</th>\n",
       "      <th>...</th>\n",
       "      <th>Suroeste dióxido de nitrógeno</th>\n",
       "      <th>Suroeste monóxido de carbono</th>\n",
       "      <th>Suroeste PM10</th>\n",
       "      <th>Suroeste PM25</th>\n",
       "      <th>Sureste ozono</th>\n",
       "      <th>Sureste dióxido de azufre</th>\n",
       "      <th>Sureste dióxido de nitrógeno</th>\n",
       "      <th>Sureste monóxido de carbono</th>\n",
       "      <th>Sureste PM10</th>\n",
       "      <th>Sureste PM25</th>\n",
       "    </tr>\n",
       "  </thead>\n",
       "  <tbody>\n",
       "    <tr>\n",
       "      <th>7291</th>\n",
       "      <td>2019-10-31</td>\n",
       "      <td>20</td>\n",
       "      <td>9</td>\n",
       "      <td>4</td>\n",
       "      <td>10</td>\n",
       "      <td>2</td>\n",
       "      <td>40</td>\n",
       "      <td>62</td>\n",
       "      <td>9</td>\n",
       "      <td>4</td>\n",
       "      <td>...</td>\n",
       "      <td>10</td>\n",
       "      <td>3</td>\n",
       "      <td>26</td>\n",
       "      <td>56</td>\n",
       "      <td>2</td>\n",
       "      <td>4</td>\n",
       "      <td>12</td>\n",
       "      <td>3</td>\n",
       "      <td>38</td>\n",
       "      <td>68</td>\n",
       "    </tr>\n",
       "    <tr>\n",
       "      <th>7292</th>\n",
       "      <td>2019-10-31</td>\n",
       "      <td>21</td>\n",
       "      <td>7</td>\n",
       "      <td>4</td>\n",
       "      <td>12</td>\n",
       "      <td>2</td>\n",
       "      <td>39</td>\n",
       "      <td>59</td>\n",
       "      <td>9</td>\n",
       "      <td>2</td>\n",
       "      <td>...</td>\n",
       "      <td>9</td>\n",
       "      <td>3</td>\n",
       "      <td>25</td>\n",
       "      <td>55</td>\n",
       "      <td>2</td>\n",
       "      <td>4</td>\n",
       "      <td>12</td>\n",
       "      <td>3</td>\n",
       "      <td>36</td>\n",
       "      <td>66</td>\n",
       "    </tr>\n",
       "    <tr>\n",
       "      <th>7293</th>\n",
       "      <td>2019-10-31</td>\n",
       "      <td>22</td>\n",
       "      <td>7</td>\n",
       "      <td>4</td>\n",
       "      <td>11</td>\n",
       "      <td>2</td>\n",
       "      <td>38</td>\n",
       "      <td>58</td>\n",
       "      <td>6</td>\n",
       "      <td>2</td>\n",
       "      <td>...</td>\n",
       "      <td>9</td>\n",
       "      <td>3</td>\n",
       "      <td>24</td>\n",
       "      <td>55</td>\n",
       "      <td>1</td>\n",
       "      <td>4</td>\n",
       "      <td>12</td>\n",
       "      <td>3</td>\n",
       "      <td>35</td>\n",
       "      <td>64</td>\n",
       "    </tr>\n",
       "    <tr>\n",
       "      <th>7294</th>\n",
       "      <td>2019-10-31</td>\n",
       "      <td>23</td>\n",
       "      <td>9</td>\n",
       "      <td>4</td>\n",
       "      <td>11</td>\n",
       "      <td>2</td>\n",
       "      <td>38</td>\n",
       "      <td>57</td>\n",
       "      <td>4</td>\n",
       "      <td>2</td>\n",
       "      <td>...</td>\n",
       "      <td>10</td>\n",
       "      <td>2</td>\n",
       "      <td>24</td>\n",
       "      <td>54</td>\n",
       "      <td>1</td>\n",
       "      <td>4</td>\n",
       "      <td>12</td>\n",
       "      <td>4</td>\n",
       "      <td>35</td>\n",
       "      <td>62</td>\n",
       "    </tr>\n",
       "    <tr>\n",
       "      <th>7295</th>\n",
       "      <td>2019-10-31</td>\n",
       "      <td>24</td>\n",
       "      <td>8</td>\n",
       "      <td>4</td>\n",
       "      <td>11</td>\n",
       "      <td>2</td>\n",
       "      <td>36</td>\n",
       "      <td>56</td>\n",
       "      <td>4</td>\n",
       "      <td>2</td>\n",
       "      <td>...</td>\n",
       "      <td>9</td>\n",
       "      <td>2</td>\n",
       "      <td>24</td>\n",
       "      <td>53</td>\n",
       "      <td>2</td>\n",
       "      <td>4</td>\n",
       "      <td>11</td>\n",
       "      <td>4</td>\n",
       "      <td>36</td>\n",
       "      <td>61</td>\n",
       "    </tr>\n",
       "  </tbody>\n",
       "</table>\n",
       "<p>5 rows × 32 columns</p>\n",
       "</div>"
      ],
      "text/plain": [
       "          Fecha  Hora  Noroeste ozono  Noroeste dióxido de azufre  \\\n",
       "7291 2019-10-31    20               9                           4   \n",
       "7292 2019-10-31    21               7                           4   \n",
       "7293 2019-10-31    22               7                           4   \n",
       "7294 2019-10-31    23               9                           4   \n",
       "7295 2019-10-31    24               8                           4   \n",
       "\n",
       "      Noroeste dióxido de nitrógeno  Noroeste monóxido de carbono  \\\n",
       "7291                             10                             2   \n",
       "7292                             12                             2   \n",
       "7293                             11                             2   \n",
       "7294                             11                             2   \n",
       "7295                             11                             2   \n",
       "\n",
       "      Noroeste PM10  Noroeste PM25  Noreste ozono  Noreste dióxido de azufre  \\\n",
       "7291             40             62              9                          4   \n",
       "7292             39             59              9                          2   \n",
       "7293             38             58              6                          2   \n",
       "7294             38             57              4                          2   \n",
       "7295             36             56              4                          2   \n",
       "\n",
       "      ...  Suroeste dióxido de nitrógeno  Suroeste monóxido de carbono  \\\n",
       "7291  ...                             10                             3   \n",
       "7292  ...                              9                             3   \n",
       "7293  ...                              9                             3   \n",
       "7294  ...                             10                             2   \n",
       "7295  ...                              9                             2   \n",
       "\n",
       "      Suroeste PM10  Suroeste PM25  Sureste ozono  Sureste dióxido de azufre  \\\n",
       "7291             26             56              2                          4   \n",
       "7292             25             55              2                          4   \n",
       "7293             24             55              1                          4   \n",
       "7294             24             54              1                          4   \n",
       "7295             24             53              2                          4   \n",
       "\n",
       "      Sureste dióxido de nitrógeno  Sureste monóxido de carbono  Sureste PM10  \\\n",
       "7291                            12                            3            38   \n",
       "7292                            12                            3            36   \n",
       "7293                            12                            3            35   \n",
       "7294                            12                            4            35   \n",
       "7295                            11                            4            36   \n",
       "\n",
       "      Sureste PM25  \n",
       "7291            68  \n",
       "7292            66  \n",
       "7293            64  \n",
       "7294            62  \n",
       "7295            61  \n",
       "\n",
       "[5 rows x 32 columns]"
      ]
     },
     "execution_count": 9,
     "metadata": {},
     "output_type": "execute_result"
    }
   ],
   "source": [
    "cuauh_imeca_real.tail()"
   ]
  },
  {
   "cell_type": "code",
   "execution_count": 10,
   "metadata": {},
   "outputs": [],
   "source": [
    "cuauh_imeca_real.Hora[cuauh_imeca_real.Hora==24] = 00\n",
    "cuauh_imeca_real.Fecha=cuauh_imeca_real.Fecha.apply(str)\n",
    "cuauh_imeca_real.Fecha=cuauh_imeca_real.Fecha.apply(lambda x: x.replace(' 00:00:00',''))\n",
    "cuauh_imeca_real['DATETIME']=cuauh_imeca_real.Fecha + ' ' + cuauh_imeca_real.Hora.apply(str)+':00:00'\n",
    "#df.DATETIME=df.DATETIME.apply(lambda x: x.replace(' 00:00:00',''))\n",
    "cuauh_imeca_real.DATETIME=pd.to_datetime(cuauh_imeca_real.DATETIME)"
   ]
  },
  {
   "cell_type": "code",
   "execution_count": 11,
   "metadata": {},
   "outputs": [
    {
     "data": {
      "text/plain": [
       "7291   2019-10-31 20:00:00\n",
       "7292   2019-10-31 21:00:00\n",
       "7293   2019-10-31 22:00:00\n",
       "7294   2019-10-31 23:00:00\n",
       "7295   2019-10-31 00:00:00\n",
       "Name: DATETIME, dtype: datetime64[ns]"
      ]
     },
     "execution_count": 11,
     "metadata": {},
     "output_type": "execute_result"
    }
   ],
   "source": [
    "cuauh_imeca_real.DATETIME.tail()"
   ]
  },
  {
   "cell_type": "code",
   "execution_count": 12,
   "metadata": {},
   "outputs": [
    {
     "data": {
      "text/plain": [
       "Index(['Fecha', 'Hora', 'Noroeste ozono', 'Noroeste dióxido de azufre',\n",
       "       'Noroeste dióxido de nitrógeno', 'Noroeste monóxido de carbono',\n",
       "       'Noroeste PM10', 'Noroeste PM25', 'Noreste ozono',\n",
       "       'Noreste dióxido de azufre', 'Noreste dióxido de nitrógeno',\n",
       "       'Noreste monóxido de carbono', 'Noreste PM10', 'Noreste PM25',\n",
       "       'Centro ozono', 'Centro dióxido de azufre',\n",
       "       'Centro dióxido de nitrógeno', 'Centro monóxido de carbono',\n",
       "       'Centro PM10', 'Centro PM25', 'Suroeste ozono',\n",
       "       'Suroeste dióxido de azufre', 'Suroeste dióxido de nitrógeno',\n",
       "       'Suroeste monóxido de carbono', 'Suroeste PM10', 'Suroeste PM25',\n",
       "       'Sureste ozono', 'Sureste dióxido de azufre',\n",
       "       'Sureste dióxido de nitrógeno', 'Sureste monóxido de carbono',\n",
       "       'Sureste PM10', 'Sureste PM25', 'DATETIME'],\n",
       "      dtype='object')"
      ]
     },
     "execution_count": 12,
     "metadata": {},
     "output_type": "execute_result"
    }
   ],
   "source": [
    "cuauh_imeca_real.columns"
   ]
  },
  {
   "cell_type": "code",
   "execution_count": 13,
   "metadata": {},
   "outputs": [],
   "source": [
    "cuauh_imeca_real=cuauh_imeca_real[['DATETIME','Centro PM10']]\n",
    "cuauh_imeca_real=cuauh_imeca_real.set_index('DATETIME')\n",
    "\n",
    "cuauh_imeca_mean=cuauh_imeca_real.groupby(pd.TimeGrouper('D')).mean()\n",
    "cuauh_imeca_max=cuauh_imeca_real.groupby(pd.TimeGrouper('D')).max()"
   ]
  },
  {
   "cell_type": "code",
   "execution_count": 14,
   "metadata": {},
   "outputs": [
    {
     "data": {
      "text/html": [
       "<div>\n",
       "<style scoped>\n",
       "    .dataframe tbody tr th:only-of-type {\n",
       "        vertical-align: middle;\n",
       "    }\n",
       "\n",
       "    .dataframe tbody tr th {\n",
       "        vertical-align: top;\n",
       "    }\n",
       "\n",
       "    .dataframe thead th {\n",
       "        text-align: right;\n",
       "    }\n",
       "</style>\n",
       "<table border=\"1\" class=\"dataframe\">\n",
       "  <thead>\n",
       "    <tr style=\"text-align: right;\">\n",
       "      <th></th>\n",
       "      <th>Centro PM10</th>\n",
       "    </tr>\n",
       "    <tr>\n",
       "      <th>DATETIME</th>\n",
       "      <th></th>\n",
       "    </tr>\n",
       "  </thead>\n",
       "  <tbody>\n",
       "    <tr>\n",
       "      <th>2019-01-01</th>\n",
       "      <td>103.666667</td>\n",
       "    </tr>\n",
       "    <tr>\n",
       "      <th>2019-01-02</th>\n",
       "      <td>107.125000</td>\n",
       "    </tr>\n",
       "    <tr>\n",
       "      <th>2019-01-03</th>\n",
       "      <td>99.666667</td>\n",
       "    </tr>\n",
       "    <tr>\n",
       "      <th>2019-01-04</th>\n",
       "      <td>95.875000</td>\n",
       "    </tr>\n",
       "    <tr>\n",
       "      <th>2019-01-05</th>\n",
       "      <td>98.666667</td>\n",
       "    </tr>\n",
       "  </tbody>\n",
       "</table>\n",
       "</div>"
      ],
      "text/plain": [
       "            Centro PM10\n",
       "DATETIME               \n",
       "2019-01-01   103.666667\n",
       "2019-01-02   107.125000\n",
       "2019-01-03    99.666667\n",
       "2019-01-04    95.875000\n",
       "2019-01-05    98.666667"
      ]
     },
     "execution_count": 14,
     "metadata": {},
     "output_type": "execute_result"
    }
   ],
   "source": [
    "cuauh_imeca_mean.head()"
   ]
  },
  {
   "cell_type": "code",
   "execution_count": 15,
   "metadata": {
    "scrolled": true
   },
   "outputs": [
    {
     "data": {
      "text/html": [
       "<div>\n",
       "<style scoped>\n",
       "    .dataframe tbody tr th:only-of-type {\n",
       "        vertical-align: middle;\n",
       "    }\n",
       "\n",
       "    .dataframe tbody tr th {\n",
       "        vertical-align: top;\n",
       "    }\n",
       "\n",
       "    .dataframe thead th {\n",
       "        text-align: right;\n",
       "    }\n",
       "</style>\n",
       "<table border=\"1\" class=\"dataframe\">\n",
       "  <thead>\n",
       "    <tr style=\"text-align: right;\">\n",
       "      <th></th>\n",
       "      <th>Centro PM10</th>\n",
       "    </tr>\n",
       "    <tr>\n",
       "      <th>DATETIME</th>\n",
       "      <th></th>\n",
       "    </tr>\n",
       "  </thead>\n",
       "  <tbody>\n",
       "    <tr>\n",
       "      <th>2019-01-01</th>\n",
       "      <td>115</td>\n",
       "    </tr>\n",
       "    <tr>\n",
       "      <th>2019-01-02</th>\n",
       "      <td>114</td>\n",
       "    </tr>\n",
       "    <tr>\n",
       "      <th>2019-01-03</th>\n",
       "      <td>106</td>\n",
       "    </tr>\n",
       "    <tr>\n",
       "      <th>2019-01-04</th>\n",
       "      <td>101</td>\n",
       "    </tr>\n",
       "    <tr>\n",
       "      <th>2019-01-05</th>\n",
       "      <td>106</td>\n",
       "    </tr>\n",
       "  </tbody>\n",
       "</table>\n",
       "</div>"
      ],
      "text/plain": [
       "            Centro PM10\n",
       "DATETIME               \n",
       "2019-01-01          115\n",
       "2019-01-02          114\n",
       "2019-01-03          106\n",
       "2019-01-04          101\n",
       "2019-01-05          106"
      ]
     },
     "execution_count": 15,
     "metadata": {},
     "output_type": "execute_result"
    }
   ],
   "source": [
    "cuauh_imeca_max.head()"
   ]
  },
  {
   "cell_type": "markdown",
   "metadata": {},
   "source": [
    "### Leyendo CSV de medición de PM10"
   ]
  },
  {
   "cell_type": "code",
   "execution_count": 16,
   "metadata": {},
   "outputs": [],
   "source": [
    "cuauh_imeca = pd.read_csv(\"../data_aircdmx/imeca_pm_2019.csv\")"
   ]
  },
  {
   "cell_type": "code",
   "execution_count": 17,
   "metadata": {},
   "outputs": [],
   "source": [
    "cuauh_imeca['date']=pd.to_datetime(cuauh_imeca['\\tdate'],format='%d/%m/%Y')"
   ]
  },
  {
   "cell_type": "code",
   "execution_count": 18,
   "metadata": {},
   "outputs": [
    {
     "data": {
      "text/html": [
       "<div>\n",
       "<style scoped>\n",
       "    .dataframe tbody tr th:only-of-type {\n",
       "        vertical-align: middle;\n",
       "    }\n",
       "\n",
       "    .dataframe tbody tr th {\n",
       "        vertical-align: top;\n",
       "    }\n",
       "\n",
       "    .dataframe thead th {\n",
       "        text-align: right;\n",
       "    }\n",
       "</style>\n",
       "<table border=\"1\" class=\"dataframe\">\n",
       "  <thead>\n",
       "    <tr style=\"text-align: right;\">\n",
       "      <th></th>\n",
       "      <th>date</th>\n",
       "      <th>id_station</th>\n",
       "      <th>id_parameter</th>\n",
       "      <th>value</th>\n",
       "      <th>unit</th>\n",
       "      <th>date</th>\n",
       "    </tr>\n",
       "  </thead>\n",
       "  <tbody>\n",
       "    <tr>\n",
       "      <th>10</th>\n",
       "      <td>01/01/2019</td>\n",
       "      <td>HGM</td>\n",
       "      <td>PM10</td>\n",
       "      <td>77</td>\n",
       "      <td>2</td>\n",
       "      <td>2019-01-01</td>\n",
       "    </tr>\n",
       "    <tr>\n",
       "      <th>48</th>\n",
       "      <td>02/01/2019</td>\n",
       "      <td>HGM</td>\n",
       "      <td>PM10</td>\n",
       "      <td>65</td>\n",
       "      <td>2</td>\n",
       "      <td>2019-01-02</td>\n",
       "    </tr>\n",
       "    <tr>\n",
       "      <th>85</th>\n",
       "      <td>03/01/2019</td>\n",
       "      <td>HGM</td>\n",
       "      <td>PM10</td>\n",
       "      <td>49</td>\n",
       "      <td>2</td>\n",
       "      <td>2019-01-03</td>\n",
       "    </tr>\n",
       "    <tr>\n",
       "      <th>125</th>\n",
       "      <td>04/01/2019</td>\n",
       "      <td>HGM</td>\n",
       "      <td>PM10</td>\n",
       "      <td>60</td>\n",
       "      <td>2</td>\n",
       "      <td>2019-01-04</td>\n",
       "    </tr>\n",
       "    <tr>\n",
       "      <th>163</th>\n",
       "      <td>05/01/2019</td>\n",
       "      <td>HGM</td>\n",
       "      <td>PM10</td>\n",
       "      <td>71</td>\n",
       "      <td>2</td>\n",
       "      <td>2019-01-05</td>\n",
       "    </tr>\n",
       "    <tr>\n",
       "      <th>201</th>\n",
       "      <td>06/01/2019</td>\n",
       "      <td>HGM</td>\n",
       "      <td>PM10</td>\n",
       "      <td>54</td>\n",
       "      <td>2</td>\n",
       "      <td>2019-01-06</td>\n",
       "    </tr>\n",
       "  </tbody>\n",
       "</table>\n",
       "</div>"
      ],
      "text/plain": [
       "         \\tdate id_station id_parameter  value  unit       date\n",
       "10   01/01/2019        HGM         PM10     77     2 2019-01-01\n",
       "48   02/01/2019        HGM         PM10     65     2 2019-01-02\n",
       "85   03/01/2019        HGM         PM10     49     2 2019-01-03\n",
       "125  04/01/2019        HGM         PM10     60     2 2019-01-04\n",
       "163  05/01/2019        HGM         PM10     71     2 2019-01-05\n",
       "201  06/01/2019        HGM         PM10     54     2 2019-01-06"
      ]
     },
     "execution_count": 18,
     "metadata": {},
     "output_type": "execute_result"
    }
   ],
   "source": [
    "cuauh_imeca = cuauh_imeca[(cuauh_imeca.id_station == 'HGM') & (cuauh_imeca.id_parameter == 'PM10')]\n",
    "cuauh_imeca.head(6)"
   ]
  },
  {
   "cell_type": "code",
   "execution_count": 19,
   "metadata": {},
   "outputs": [
    {
     "data": {
      "text/plain": [
       "\\tdate          0\n",
       "id_station      0\n",
       "id_parameter    0\n",
       "value           0\n",
       "unit            0\n",
       "date            0\n",
       "dtype: int64"
      ]
     },
     "execution_count": 19,
     "metadata": {},
     "output_type": "execute_result"
    }
   ],
   "source": [
    "cuauh_imeca.isnull().sum()"
   ]
  },
  {
   "cell_type": "code",
   "execution_count": 20,
   "metadata": {},
   "outputs": [
    {
     "data": {
      "text/html": [
       "<div>\n",
       "<style scoped>\n",
       "    .dataframe tbody tr th:only-of-type {\n",
       "        vertical-align: middle;\n",
       "    }\n",
       "\n",
       "    .dataframe tbody tr th {\n",
       "        vertical-align: top;\n",
       "    }\n",
       "\n",
       "    .dataframe thead th {\n",
       "        text-align: right;\n",
       "    }\n",
       "</style>\n",
       "<table border=\"1\" class=\"dataframe\">\n",
       "  <thead>\n",
       "    <tr style=\"text-align: right;\">\n",
       "      <th></th>\n",
       "      <th>date</th>\n",
       "      <th>id_station</th>\n",
       "      <th>id_parameter</th>\n",
       "      <th>value</th>\n",
       "      <th>unit</th>\n",
       "    </tr>\n",
       "    <tr>\n",
       "      <th>date</th>\n",
       "      <th></th>\n",
       "      <th></th>\n",
       "      <th></th>\n",
       "      <th></th>\n",
       "      <th></th>\n",
       "    </tr>\n",
       "  </thead>\n",
       "  <tbody>\n",
       "    <tr>\n",
       "      <th>2019-01-01</th>\n",
       "      <td>01/01/2019</td>\n",
       "      <td>HGM</td>\n",
       "      <td>PM10</td>\n",
       "      <td>77</td>\n",
       "      <td>2</td>\n",
       "    </tr>\n",
       "    <tr>\n",
       "      <th>2019-01-02</th>\n",
       "      <td>02/01/2019</td>\n",
       "      <td>HGM</td>\n",
       "      <td>PM10</td>\n",
       "      <td>65</td>\n",
       "      <td>2</td>\n",
       "    </tr>\n",
       "    <tr>\n",
       "      <th>2019-01-03</th>\n",
       "      <td>03/01/2019</td>\n",
       "      <td>HGM</td>\n",
       "      <td>PM10</td>\n",
       "      <td>49</td>\n",
       "      <td>2</td>\n",
       "    </tr>\n",
       "    <tr>\n",
       "      <th>2019-01-04</th>\n",
       "      <td>04/01/2019</td>\n",
       "      <td>HGM</td>\n",
       "      <td>PM10</td>\n",
       "      <td>60</td>\n",
       "      <td>2</td>\n",
       "    </tr>\n",
       "    <tr>\n",
       "      <th>2019-01-05</th>\n",
       "      <td>05/01/2019</td>\n",
       "      <td>HGM</td>\n",
       "      <td>PM10</td>\n",
       "      <td>71</td>\n",
       "      <td>2</td>\n",
       "    </tr>\n",
       "  </tbody>\n",
       "</table>\n",
       "</div>"
      ],
      "text/plain": [
       "                \\tdate id_station id_parameter  value  unit\n",
       "date                                                       \n",
       "2019-01-01  01/01/2019        HGM         PM10     77     2\n",
       "2019-01-02  02/01/2019        HGM         PM10     65     2\n",
       "2019-01-03  03/01/2019        HGM         PM10     49     2\n",
       "2019-01-04  04/01/2019        HGM         PM10     60     2\n",
       "2019-01-05  05/01/2019        HGM         PM10     71     2"
      ]
     },
     "execution_count": 20,
     "metadata": {},
     "output_type": "execute_result"
    }
   ],
   "source": [
    "cuauh_imeca=cuauh_imeca.set_index(\"date\")\n",
    "cuauh_imeca.head()"
   ]
  },
  {
   "cell_type": "markdown",
   "metadata": {},
   "source": [
    "## Ejecución del modelo"
   ]
  },
  {
   "cell_type": "code",
   "execution_count": 21,
   "metadata": {},
   "outputs": [],
   "source": [
    "cuauh_clean = pd.read_csv(\"../data_clean/cuauh_pm10_clean_v2.csv\",index_col=[1])\n",
    "cuauh_clean.drop(\"Unnamed: 0\",axis=1,inplace=True)"
   ]
  },
  {
   "cell_type": "code",
   "execution_count": 22,
   "metadata": {},
   "outputs": [],
   "source": [
    "cuauh_modelo= cuauh_clean.drop([\"FECHA\",\"HORA\"],axis=1)\n",
    "\n",
    "split_date2='2019-01-01'\n",
    "split_date1='2015-04-01'\n",
    "\n",
    "train=cuauh_modelo[(cuauh_modelo.index>=split_date1)&(cuauh_modelo.index<split_date2)].copy()\n",
    "test=cuauh_modelo[cuauh_modelo.index>split_date2].copy()"
   ]
  },
  {
   "cell_type": "markdown",
   "metadata": {},
   "source": [
    "### Preparando para fbprophet"
   ]
  },
  {
   "cell_type": "code",
   "execution_count": 23,
   "metadata": {},
   "outputs": [],
   "source": [
    "train=train.reset_index().rename(columns={'DATETIME':'ds','HGM':'y'})\n",
    "test=test.reset_index().rename(columns={'DATETIME':'ds','HGM':'y'})\n",
    "\n",
    "train.ds=pd.to_datetime(train.ds)\n",
    "test.ds=pd.to_datetime(test.ds)"
   ]
  },
  {
   "cell_type": "code",
   "execution_count": 30,
   "metadata": {},
   "outputs": [],
   "source": [
    "modelo=Prophet(n_changepoints=10,\n",
    "               holidays=holidays_df,\n",
    "               changepoints=['2016-01-01','2017-02-01','2018-01-01','2018-12-31'],\n",
    "               changepoint_prior_scale=0.5,\n",
    "               #yearly_seasonality=15,\n",
    "               #weekly_seasonality=True,\n",
    "               #daily_seasonality=False,\n",
    "               #yearly_seasonality=True,\n",
    "               #seasonality_prior_scale =25\n",
    "               #seasonality_mode='multiplicative'\n",
    "              ).fit(train)"
   ]
  },
  {
   "cell_type": "code",
   "execution_count": 31,
   "metadata": {},
   "outputs": [],
   "source": [
    "pred=modelo.predict(test)"
   ]
  },
  {
   "cell_type": "code",
   "execution_count": 32,
   "metadata": {},
   "outputs": [
    {
     "data": {
      "text/plain": [
       "(39.26946217461448, 38.863653285214355)"
      ]
     },
     "execution_count": 32,
     "metadata": {},
     "output_type": "execute_result"
    }
   ],
   "source": [
    "mape(test.y, pred.yhat), smape(test.y, pred.yhat)"
   ]
  },
  {
   "cell_type": "code",
   "execution_count": 33,
   "metadata": {},
   "outputs": [
    {
     "data": {
      "text/plain": [
       "19.024204171594455"
      ]
     },
     "execution_count": 33,
     "metadata": {},
     "output_type": "execute_result"
    }
   ],
   "source": [
    "mean_squared_error(test.y, pred.yhat)**0.5"
   ]
  },
  {
   "cell_type": "code",
   "execution_count": 34,
   "metadata": {},
   "outputs": [
    {
     "data": {
      "image/png": "[encoded data removed]",
      "text/plain": [
       "<Figure size 1440x576 with 1 Axes>"
      ]
     },
     "metadata": {
      "needs_background": "light"
     },
     "output_type": "display_data"
    }
   ],
   "source": [
    "f, ax=plt.subplots(1)\n",
    "f.set_figheight(8)\n",
    "f.set_figwidth(20)\n",
    "ax.scatter(test.ds, test.y, color='r',s=11)\n",
    "fig=modelo.plot(pred, ax)"
   ]
  },
  {
   "cell_type": "code",
   "execution_count": 35,
   "metadata": {},
   "outputs": [
    {
     "data": {
      "image/png": "[encoded data removed]",
      "text/plain": [
       "<Figure size 720x432 with 1 Axes>"
      ]
     },
     "metadata": {},
     "output_type": "display_data"
    }
   ],
   "source": [
    "from fbprophet.plot import add_changepoints_to_plot\n",
    "#ploteando change_pints del modelo\n",
    "fig = modelo.plot(pred)\n",
    "a = add_changepoints_to_plot(fig.gca(), modelo, pred)"
   ]
  },
  {
   "cell_type": "markdown",
   "metadata": {},
   "source": [
    "# Conversión a IMECA y comparación"
   ]
  },
  {
   "cell_type": "markdown",
   "metadata": {},
   "source": [
    "### Predicción"
   ]
  },
  {
   "cell_type": "code",
   "execution_count": 36,
   "metadata": {},
   "outputs": [],
   "source": [
    "df_pred=pd.DataFrame(pred[['ds','yhat']])\n",
    "df_pred=df_pred.set_index('ds')"
   ]
  },
  {
   "cell_type": "code",
   "execution_count": 37,
   "metadata": {},
   "outputs": [],
   "source": [
    "df_pred_mean=df_pred.groupby(pd.TimeGrouper('D')).mean()\n",
    "df_pred_max=df_pred.groupby(pd.TimeGrouper('D')).max()"
   ]
  },
  {
   "cell_type": "code",
   "execution_count": 38,
   "metadata": {},
   "outputs": [
    {
     "data": {
      "text/plain": [
       "(289, 1)"
      ]
     },
     "execution_count": 38,
     "metadata": {},
     "output_type": "execute_result"
    }
   ],
   "source": [
    "df_pred_mean.shape"
   ]
  },
  {
   "cell_type": "code",
   "execution_count": 39,
   "metadata": {},
   "outputs": [],
   "source": [
    "df_pred_mean.isnull().sum() #13 NANs\n",
    "df_pred_mean=df_pred_mean.dropna()\n",
    "df_pred_max=df_pred_max.dropna()"
   ]
  },
  {
   "cell_type": "code",
   "execution_count": 40,
   "metadata": {},
   "outputs": [
    {
     "data": {
      "text/plain": [
       "(255, 1)"
      ]
     },
     "execution_count": 40,
     "metadata": {},
     "output_type": "execute_result"
    }
   ],
   "source": [
    "df_pred_mean.shape"
   ]
  },
  {
   "cell_type": "code",
   "execution_count": 41,
   "metadata": {},
   "outputs": [
    {
     "data": {
      "text/html": [
       "<div>\n",
       "<style scoped>\n",
       "    .dataframe tbody tr th:only-of-type {\n",
       "        vertical-align: middle;\n",
       "    }\n",
       "\n",
       "    .dataframe tbody tr th {\n",
       "        vertical-align: top;\n",
       "    }\n",
       "\n",
       "    .dataframe thead th {\n",
       "        text-align: right;\n",
       "    }\n",
       "</style>\n",
       "<table border=\"1\" class=\"dataframe\">\n",
       "  <thead>\n",
       "    <tr style=\"text-align: right;\">\n",
       "      <th></th>\n",
       "      <th>yhat</th>\n",
       "      <th>imeca_pred</th>\n",
       "    </tr>\n",
       "    <tr>\n",
       "      <th>ds</th>\n",
       "      <th></th>\n",
       "      <th></th>\n",
       "    </tr>\n",
       "  </thead>\n",
       "  <tbody>\n",
       "    <tr>\n",
       "      <th>2019-01-01</th>\n",
       "      <td>48.102683</td>\n",
       "      <td>61</td>\n",
       "    </tr>\n",
       "    <tr>\n",
       "      <th>2019-01-02</th>\n",
       "      <td>46.908656</td>\n",
       "      <td>60</td>\n",
       "    </tr>\n",
       "    <tr>\n",
       "      <th>2019-01-03</th>\n",
       "      <td>45.738810</td>\n",
       "      <td>58</td>\n",
       "    </tr>\n",
       "    <tr>\n",
       "      <th>2019-01-04</th>\n",
       "      <td>45.781183</td>\n",
       "      <td>58</td>\n",
       "    </tr>\n",
       "    <tr>\n",
       "      <th>2019-01-05</th>\n",
       "      <td>43.277330</td>\n",
       "      <td>54</td>\n",
       "    </tr>\n",
       "  </tbody>\n",
       "</table>\n",
       "</div>"
      ],
      "text/plain": [
       "                 yhat  imeca_pred\n",
       "ds                               \n",
       "2019-01-01  48.102683          61\n",
       "2019-01-02  46.908656          60\n",
       "2019-01-03  45.738810          58\n",
       "2019-01-04  45.781183          58\n",
       "2019-01-05  43.277330          54"
      ]
     },
     "execution_count": 41,
     "metadata": {},
     "output_type": "execute_result"
    }
   ],
   "source": [
    "df_pred_mean['imeca_pred']=imeca_calculation(df_pred_mean.yhat)\n",
    "df_pred_max['imeca_pred']=imeca_calculation(df_pred_max.yhat)\n",
    "df_pred_mean.head()"
   ]
  },
  {
   "cell_type": "markdown",
   "metadata": {},
   "source": [
    "### Cuauh's PM10"
   ]
  },
  {
   "cell_type": "code",
   "execution_count": 42,
   "metadata": {},
   "outputs": [
    {
     "data": {
      "text/html": [
       "<div>\n",
       "<style scoped>\n",
       "    .dataframe tbody tr th:only-of-type {\n",
       "        vertical-align: middle;\n",
       "    }\n",
       "\n",
       "    .dataframe tbody tr th {\n",
       "        vertical-align: top;\n",
       "    }\n",
       "\n",
       "    .dataframe thead th {\n",
       "        text-align: right;\n",
       "    }\n",
       "</style>\n",
       "<table border=\"1\" class=\"dataframe\">\n",
       "  <thead>\n",
       "    <tr style=\"text-align: right;\">\n",
       "      <th></th>\n",
       "      <th>date</th>\n",
       "      <th>id_station</th>\n",
       "      <th>id_parameter</th>\n",
       "      <th>value</th>\n",
       "      <th>unit</th>\n",
       "      <th>imeca</th>\n",
       "    </tr>\n",
       "    <tr>\n",
       "      <th>date</th>\n",
       "      <th></th>\n",
       "      <th></th>\n",
       "      <th></th>\n",
       "      <th></th>\n",
       "      <th></th>\n",
       "      <th></th>\n",
       "    </tr>\n",
       "  </thead>\n",
       "  <tbody>\n",
       "    <tr>\n",
       "      <th>2019-01-01</th>\n",
       "      <td>01/01/2019</td>\n",
       "      <td>HGM</td>\n",
       "      <td>PM10</td>\n",
       "      <td>77</td>\n",
       "      <td>2</td>\n",
       "      <td>101</td>\n",
       "    </tr>\n",
       "    <tr>\n",
       "      <th>2019-01-02</th>\n",
       "      <td>02/01/2019</td>\n",
       "      <td>HGM</td>\n",
       "      <td>PM10</td>\n",
       "      <td>65</td>\n",
       "      <td>2</td>\n",
       "      <td>86</td>\n",
       "    </tr>\n",
       "    <tr>\n",
       "      <th>2019-01-03</th>\n",
       "      <td>03/01/2019</td>\n",
       "      <td>HGM</td>\n",
       "      <td>PM10</td>\n",
       "      <td>49</td>\n",
       "      <td>2</td>\n",
       "      <td>63</td>\n",
       "    </tr>\n",
       "    <tr>\n",
       "      <th>2019-01-04</th>\n",
       "      <td>04/01/2019</td>\n",
       "      <td>HGM</td>\n",
       "      <td>PM10</td>\n",
       "      <td>60</td>\n",
       "      <td>2</td>\n",
       "      <td>78</td>\n",
       "    </tr>\n",
       "    <tr>\n",
       "      <th>2019-01-05</th>\n",
       "      <td>05/01/2019</td>\n",
       "      <td>HGM</td>\n",
       "      <td>PM10</td>\n",
       "      <td>71</td>\n",
       "      <td>2</td>\n",
       "      <td>94</td>\n",
       "    </tr>\n",
       "  </tbody>\n",
       "</table>\n",
       "</div>"
      ],
      "text/plain": [
       "                \\tdate id_station id_parameter  value  unit  imeca\n",
       "date                                                              \n",
       "2019-01-01  01/01/2019        HGM         PM10     77     2    101\n",
       "2019-01-02  02/01/2019        HGM         PM10     65     2     86\n",
       "2019-01-03  03/01/2019        HGM         PM10     49     2     63\n",
       "2019-01-04  04/01/2019        HGM         PM10     60     2     78\n",
       "2019-01-05  05/01/2019        HGM         PM10     71     2     94"
      ]
     },
     "execution_count": 42,
     "metadata": {},
     "output_type": "execute_result"
    }
   ],
   "source": [
    "cuauh_imeca['imeca']=imeca_calculation(cuauh_imeca.value)\n",
    "cuauh_imeca.head()"
   ]
  },
  {
   "cell_type": "code",
   "execution_count": 43,
   "metadata": {},
   "outputs": [],
   "source": [
    "df_comparison=df_pred_mean.join(cuauh_imeca)[['yhat','imeca_pred','imeca']]\n",
    "df_comparison2=df_pred_max.join(cuauh_imeca)[['yhat','imeca_pred','imeca']]\n",
    "df_comparison=df_comparison.dropna()"
   ]
  },
  {
   "cell_type": "code",
   "execution_count": 44,
   "metadata": {},
   "outputs": [],
   "source": [
    "df_comparison['categoria_pred']=categorizando(df_comparison.imeca_pred)\n",
    "df_comparison['categoria_value']=categorizando(df_comparison.imeca)\n",
    "df_comparison.head()\n",
    "df_comparison2['categoria_pred']=categorizando(df_comparison2.imeca_pred)\n",
    "df_comparison2['categoria_value']=categorizando(df_comparison2.imeca)"
   ]
  },
  {
   "cell_type": "code",
   "execution_count": 45,
   "metadata": {},
   "outputs": [
    {
     "data": {
      "text/html": [
       "<div>\n",
       "<style scoped>\n",
       "    .dataframe tbody tr th:only-of-type {\n",
       "        vertical-align: middle;\n",
       "    }\n",
       "\n",
       "    .dataframe tbody tr th {\n",
       "        vertical-align: top;\n",
       "    }\n",
       "\n",
       "    .dataframe thead th {\n",
       "        text-align: right;\n",
       "    }\n",
       "</style>\n",
       "<table border=\"1\" class=\"dataframe\">\n",
       "  <thead>\n",
       "    <tr style=\"text-align: right;\">\n",
       "      <th></th>\n",
       "      <th>yhat</th>\n",
       "      <th>imeca_pred</th>\n",
       "      <th>imeca</th>\n",
       "      <th>categoria_pred</th>\n",
       "      <th>categoria_value</th>\n",
       "      <th>comparacion_imecas</th>\n",
       "    </tr>\n",
       "    <tr>\n",
       "      <th>ds</th>\n",
       "      <th></th>\n",
       "      <th></th>\n",
       "      <th></th>\n",
       "      <th></th>\n",
       "      <th></th>\n",
       "      <th></th>\n",
       "    </tr>\n",
       "  </thead>\n",
       "  <tbody>\n",
       "    <tr>\n",
       "      <th>2019-10-07</th>\n",
       "      <td>15.950517</td>\n",
       "      <td>20</td>\n",
       "      <td>24.0</td>\n",
       "      <td>Buena</td>\n",
       "      <td>Buena</td>\n",
       "      <td>1</td>\n",
       "    </tr>\n",
       "    <tr>\n",
       "      <th>2019-10-08</th>\n",
       "      <td>19.333285</td>\n",
       "      <td>24</td>\n",
       "      <td>21.0</td>\n",
       "      <td>Buena</td>\n",
       "      <td>Buena</td>\n",
       "      <td>1</td>\n",
       "    </tr>\n",
       "    <tr>\n",
       "      <th>2019-10-09</th>\n",
       "      <td>18.702841</td>\n",
       "      <td>24</td>\n",
       "      <td>22.0</td>\n",
       "      <td>Buena</td>\n",
       "      <td>Buena</td>\n",
       "      <td>1</td>\n",
       "    </tr>\n",
       "    <tr>\n",
       "      <th>2019-10-10</th>\n",
       "      <td>17.541035</td>\n",
       "      <td>22</td>\n",
       "      <td>39.0</td>\n",
       "      <td>Buena</td>\n",
       "      <td>Buena</td>\n",
       "      <td>1</td>\n",
       "    </tr>\n",
       "    <tr>\n",
       "      <th>2019-10-11</th>\n",
       "      <td>18.957208</td>\n",
       "      <td>24</td>\n",
       "      <td>38.0</td>\n",
       "      <td>Buena</td>\n",
       "      <td>Buena</td>\n",
       "      <td>1</td>\n",
       "    </tr>\n",
       "    <tr>\n",
       "      <th>2019-10-12</th>\n",
       "      <td>17.273600</td>\n",
       "      <td>21</td>\n",
       "      <td>29.0</td>\n",
       "      <td>Buena</td>\n",
       "      <td>Buena</td>\n",
       "      <td>1</td>\n",
       "    </tr>\n",
       "    <tr>\n",
       "      <th>2019-10-13</th>\n",
       "      <td>12.427440</td>\n",
       "      <td>15</td>\n",
       "      <td>38.0</td>\n",
       "      <td>Buena</td>\n",
       "      <td>Buena</td>\n",
       "      <td>1</td>\n",
       "    </tr>\n",
       "    <tr>\n",
       "      <th>2019-10-14</th>\n",
       "      <td>17.836813</td>\n",
       "      <td>22</td>\n",
       "      <td>41.0</td>\n",
       "      <td>Buena</td>\n",
       "      <td>Buena</td>\n",
       "      <td>1</td>\n",
       "    </tr>\n",
       "    <tr>\n",
       "      <th>2019-10-15</th>\n",
       "      <td>21.145087</td>\n",
       "      <td>26</td>\n",
       "      <td>50.0</td>\n",
       "      <td>Buena</td>\n",
       "      <td>Regular</td>\n",
       "      <td>0</td>\n",
       "    </tr>\n",
       "    <tr>\n",
       "      <th>2019-10-16</th>\n",
       "      <td>20.753760</td>\n",
       "      <td>26</td>\n",
       "      <td>29.0</td>\n",
       "      <td>Buena</td>\n",
       "      <td>Buena</td>\n",
       "      <td>1</td>\n",
       "    </tr>\n",
       "  </tbody>\n",
       "</table>\n",
       "</div>"
      ],
      "text/plain": [
       "                 yhat  imeca_pred  imeca categoria_pred categoria_value  \\\n",
       "ds                                                                        \n",
       "2019-10-07  15.950517          20   24.0          Buena           Buena   \n",
       "2019-10-08  19.333285          24   21.0          Buena           Buena   \n",
       "2019-10-09  18.702841          24   22.0          Buena           Buena   \n",
       "2019-10-10  17.541035          22   39.0          Buena           Buena   \n",
       "2019-10-11  18.957208          24   38.0          Buena           Buena   \n",
       "2019-10-12  17.273600          21   29.0          Buena           Buena   \n",
       "2019-10-13  12.427440          15   38.0          Buena           Buena   \n",
       "2019-10-14  17.836813          22   41.0          Buena           Buena   \n",
       "2019-10-15  21.145087          26   50.0          Buena         Regular   \n",
       "2019-10-16  20.753760          26   29.0          Buena           Buena   \n",
       "\n",
       "            comparacion_imecas  \n",
       "ds                              \n",
       "2019-10-07                   1  \n",
       "2019-10-08                   1  \n",
       "2019-10-09                   1  \n",
       "2019-10-10                   1  \n",
       "2019-10-11                   1  \n",
       "2019-10-12                   1  \n",
       "2019-10-13                   1  \n",
       "2019-10-14                   1  \n",
       "2019-10-15                   0  \n",
       "2019-10-16                   1  "
      ]
     },
     "execution_count": 45,
     "metadata": {},
     "output_type": "execute_result"
    }
   ],
   "source": [
    "df_comparison['comparacion_imecas']=comparando_categorias(df_comparison.categoria_pred,df_comparison.categoria_value)\n",
    "df_comparison2['comparacion_imecas']=comparando_categorias(df_comparison2.categoria_pred,df_comparison2.categoria_value)\n",
    "df_comparison.tail(10)"
   ]
  },
  {
   "cell_type": "code",
   "execution_count": 51,
   "metadata": {},
   "outputs": [
    {
     "data": {
      "text/plain": [
       "1    169\n",
       "0     83\n",
       "Name: comparacion_imecas, dtype: int64"
      ]
     },
     "execution_count": 51,
     "metadata": {},
     "output_type": "execute_result"
    }
   ],
   "source": [
    "df_comparison.comparacion_imecas.value_counts()"
   ]
  },
  {
   "cell_type": "code",
   "execution_count": 48,
   "metadata": {},
   "outputs": [
    {
     "data": {
      "text/plain": [
       "0.6653543307086615"
      ]
     },
     "execution_count": 48,
     "metadata": {},
     "output_type": "execute_result"
    }
   ],
   "source": [
    "169/254"
   ]
  },
  {
   "cell_type": "code",
   "execution_count": 60,
   "metadata": {},
   "outputs": [
    {
     "data": {
      "image/png": "[encoded data removed]",
      "text/plain": [
       "<Figure size 1440x576 with 1 Axes>"
      ]
     },
     "metadata": {
      "needs_background": "light"
     },
     "output_type": "display_data"
    }
   ],
   "source": [
    "f, ax=plt.subplots(1)\n",
    "f.set_figheight(8)\n",
    "f.set_figwidth(20)\n",
    "ax.scatter(df_comparison.index, df_comparison.imeca_pred, color='r',s=13, label='pred');\n",
    "ax.scatter(df_comparison.index, df_comparison.imeca, color='b',s=13, label='real');\n",
    "ax.legend(loc=\"upper right\");"
   ]
  },
  {
   "cell_type": "markdown",
   "metadata": {},
   "source": [
    "Con el modelo actual, el % de aciertos de IMECA es 60%-80% tanto para el cálculo del IMECA con base al promedio, así como sacando el máximo valor de predicción."
   ]
  },
  {
   "cell_type": "markdown",
   "metadata": {},
   "source": [
    "# Comparación directa de IMECA"
   ]
  },
  {
   "cell_type": "markdown",
   "metadata": {},
   "source": [
    "### Predicción"
   ]
  },
  {
   "cell_type": "code",
   "execution_count": 106,
   "metadata": {},
   "outputs": [],
   "source": [
    "df_pred=pd.DataFrame(pred[['ds','yhat']])\n",
    "df_pred=df_pred.set_index('ds')"
   ]
  },
  {
   "cell_type": "code",
   "execution_count": 107,
   "metadata": {},
   "outputs": [],
   "source": [
    "df_pred_mean=df_pred.groupby(pd.TimeGrouper('D')).mean()\n",
    "df_pred_max=df_pred.groupby(pd.TimeGrouper('D')).max()"
   ]
  },
  {
   "cell_type": "code",
   "execution_count": 108,
   "metadata": {},
   "outputs": [
    {
     "data": {
      "text/plain": [
       "(289, 1)"
      ]
     },
     "execution_count": 108,
     "metadata": {},
     "output_type": "execute_result"
    }
   ],
   "source": [
    "df_pred_mean.shape"
   ]
  },
  {
   "cell_type": "code",
   "execution_count": 109,
   "metadata": {},
   "outputs": [],
   "source": [
    "df_pred_mean.isnull().sum() #13 NANs\n",
    "df_pred_mean=df_pred_mean.dropna()\n",
    "df_pred_max=df_pred_max.dropna()"
   ]
  },
  {
   "cell_type": "code",
   "execution_count": 110,
   "metadata": {},
   "outputs": [
    {
     "data": {
      "text/plain": [
       "(255, 1)"
      ]
     },
     "execution_count": 110,
     "metadata": {},
     "output_type": "execute_result"
    }
   ],
   "source": [
    "df_pred_mean.shape"
   ]
  },
  {
   "cell_type": "code",
   "execution_count": 111,
   "metadata": {},
   "outputs": [
    {
     "data": {
      "text/html": [
       "<div>\n",
       "<style scoped>\n",
       "    .dataframe tbody tr th:only-of-type {\n",
       "        vertical-align: middle;\n",
       "    }\n",
       "\n",
       "    .dataframe tbody tr th {\n",
       "        vertical-align: top;\n",
       "    }\n",
       "\n",
       "    .dataframe thead th {\n",
       "        text-align: right;\n",
       "    }\n",
       "</style>\n",
       "<table border=\"1\" class=\"dataframe\">\n",
       "  <thead>\n",
       "    <tr style=\"text-align: right;\">\n",
       "      <th></th>\n",
       "      <th>yhat</th>\n",
       "      <th>imeca_pred</th>\n",
       "    </tr>\n",
       "    <tr>\n",
       "      <th>ds</th>\n",
       "      <th></th>\n",
       "      <th></th>\n",
       "    </tr>\n",
       "  </thead>\n",
       "  <tbody>\n",
       "    <tr>\n",
       "      <th>2019-01-01</th>\n",
       "      <td>66.082120</td>\n",
       "      <td>87</td>\n",
       "    </tr>\n",
       "    <tr>\n",
       "      <th>2019-01-02</th>\n",
       "      <td>64.456389</td>\n",
       "      <td>84</td>\n",
       "    </tr>\n",
       "    <tr>\n",
       "      <th>2019-01-03</th>\n",
       "      <td>64.522108</td>\n",
       "      <td>86</td>\n",
       "    </tr>\n",
       "    <tr>\n",
       "      <th>2019-01-04</th>\n",
       "      <td>63.416888</td>\n",
       "      <td>83</td>\n",
       "    </tr>\n",
       "    <tr>\n",
       "      <th>2019-01-05</th>\n",
       "      <td>61.674450</td>\n",
       "      <td>81</td>\n",
       "    </tr>\n",
       "  </tbody>\n",
       "</table>\n",
       "</div>"
      ],
      "text/plain": [
       "                 yhat  imeca_pred\n",
       "ds                               \n",
       "2019-01-01  66.082120          87\n",
       "2019-01-02  64.456389          84\n",
       "2019-01-03  64.522108          86\n",
       "2019-01-04  63.416888          83\n",
       "2019-01-05  61.674450          81"
      ]
     },
     "execution_count": 111,
     "metadata": {},
     "output_type": "execute_result"
    }
   ],
   "source": [
    "df_pred_mean['imeca_pred']=imeca_calculation(df_pred_mean.yhat)\n",
    "df_pred_max['imeca_pred']=imeca_calculation(df_pred_max.yhat)\n",
    "df_pred_max.head()"
   ]
  },
  {
   "cell_type": "markdown",
   "metadata": {},
   "source": [
    "### Cuauh's IMECA real"
   ]
  },
  {
   "cell_type": "code",
   "execution_count": 90,
   "metadata": {},
   "outputs": [
    {
     "data": {
      "text/html": [
       "<div>\n",
       "<style scoped>\n",
       "    .dataframe tbody tr th:only-of-type {\n",
       "        vertical-align: middle;\n",
       "    }\n",
       "\n",
       "    .dataframe tbody tr th {\n",
       "        vertical-align: top;\n",
       "    }\n",
       "\n",
       "    .dataframe thead th {\n",
       "        text-align: right;\n",
       "    }\n",
       "</style>\n",
       "<table border=\"1\" class=\"dataframe\">\n",
       "  <thead>\n",
       "    <tr style=\"text-align: right;\">\n",
       "      <th></th>\n",
       "      <th>Centro PM10</th>\n",
       "    </tr>\n",
       "    <tr>\n",
       "      <th>DATETIME</th>\n",
       "      <th></th>\n",
       "    </tr>\n",
       "  </thead>\n",
       "  <tbody>\n",
       "    <tr>\n",
       "      <th>2019-01-01</th>\n",
       "      <td>115</td>\n",
       "    </tr>\n",
       "    <tr>\n",
       "      <th>2019-01-02</th>\n",
       "      <td>114</td>\n",
       "    </tr>\n",
       "    <tr>\n",
       "      <th>2019-01-03</th>\n",
       "      <td>106</td>\n",
       "    </tr>\n",
       "    <tr>\n",
       "      <th>2019-01-04</th>\n",
       "      <td>101</td>\n",
       "    </tr>\n",
       "    <tr>\n",
       "      <th>2019-01-05</th>\n",
       "      <td>106</td>\n",
       "    </tr>\n",
       "  </tbody>\n",
       "</table>\n",
       "</div>"
      ],
      "text/plain": [
       "            Centro PM10\n",
       "DATETIME               \n",
       "2019-01-01          115\n",
       "2019-01-02          114\n",
       "2019-01-03          106\n",
       "2019-01-04          101\n",
       "2019-01-05          106"
      ]
     },
     "execution_count": 90,
     "metadata": {},
     "output_type": "execute_result"
    }
   ],
   "source": [
    "cuauh_imeca_max.head()"
   ]
  },
  {
   "cell_type": "code",
   "execution_count": 114,
   "metadata": {},
   "outputs": [],
   "source": [
    "df_comparison=df_pred_max.join(cuauh_imeca_max)[['yhat','imeca_pred','Centro PM10']]\n",
    "df_comparison['categoria_pred']=categorizando(df_comparison.imeca_pred)\n",
    "df_comparison['categoria_real']=categorizando(df_comparison['Centro PM10'])\n",
    "df_comparison['comparacion_imecas']=comparando_categorias(df_comparison.categoria_pred,df_comparison.categoria_real)"
   ]
  },
  {
   "cell_type": "code",
   "execution_count": 115,
   "metadata": {},
   "outputs": [
    {
     "data": {
      "text/plain": [
       "1    155\n",
       "0    100\n",
       "Name: comparacion_imecas, dtype: int64"
      ]
     },
     "execution_count": 115,
     "metadata": {},
     "output_type": "execute_result"
    }
   ],
   "source": [
    "df_comparison.comparacion_imecas.value_counts()"
   ]
  },
  {
   "cell_type": "code",
   "execution_count": 117,
   "metadata": {},
   "outputs": [
    {
     "data": {
      "text/plain": [
       "0.6078431372549019"
      ]
     },
     "execution_count": 117,
     "metadata": {},
     "output_type": "execute_result"
    }
   ],
   "source": [
    "155/255"
   ]
  },
  {
   "cell_type": "markdown",
   "metadata": {},
   "source": [
    "## Explorando holidays"
   ]
  },
  {
   "cell_type": "code",
   "execution_count": 25,
   "metadata": {},
   "outputs": [],
   "source": [
    "import holidays"
   ]
  },
  {
   "cell_type": "code",
   "execution_count": 26,
   "metadata": {},
   "outputs": [],
   "source": [
    "holidays_df = pd.DataFrame([], columns = ['ds','holiday'])"
   ]
  },
  {
   "cell_type": "code",
   "execution_count": 27,
   "metadata": {},
   "outputs": [],
   "source": [
    "ldates = []\n",
    "lnames = []\n",
    "for date, name in sorted(holidays.MX(years=np.arange(2015, 2019)).items()):\n",
    "    ldates.append(date)\n",
    "    lnames.append(name)"
   ]
  },
  {
   "cell_type": "code",
   "execution_count": 28,
   "metadata": {},
   "outputs": [],
   "source": [
    "ldates = np.array(ldates)\n",
    "lnames = np.array(lnames)"
   ]
  },
  {
   "cell_type": "code",
   "execution_count": 29,
   "metadata": {},
   "outputs": [
    {
     "data": {
      "text/plain": [
       "0                            Año Nuevo [New Year's Day]\n",
       "1             Día de la Constitución [Constitution Day]\n",
       "2     Natalicio de Benito Juárez [Benito Juárez's bi...\n",
       "3                          Día del Trabajo [Labour Day]\n",
       "4            Día de la Independencia [Independence Day]\n",
       "5                 Día de la Revolución [Revolution Day]\n",
       "6                                   Navidad [Christmas]\n",
       "7                            Año Nuevo [New Year's Day]\n",
       "8             Día de la Constitución [Constitution Day]\n",
       "9     Natalicio de Benito Juárez [Benito Juárez's bi...\n",
       "10                         Día del Trabajo [Labour Day]\n",
       "11    Natalicio de Benito Juárez [Benito Juárez's bi...\n",
       "12           Día de la Independencia [Independence Day]\n",
       "13                Día de la Revolución [Revolution Day]\n",
       "14                                  Navidad [Christmas]\n",
       "15    Transmisión del Poder Ejecutivo Federal [Chang...\n",
       "16                           Año Nuevo [New Year's Day]\n",
       "17                Año Nuevo [New Year's Day] (Observed)\n",
       "18            Día de la Constitución [Constitution Day]\n",
       "19    Natalicio de Benito Juárez [Benito Juárez's bi...\n",
       "20                         Día del Trabajo [Labour Day]\n",
       "21    Día de la Independencia [Independence Day] (Ob...\n",
       "22           Día de la Independencia [Independence Day]\n",
       "23                Día de la Revolución [Revolution Day]\n",
       "24                                  Navidad [Christmas]\n",
       "25                           Año Nuevo [New Year's Day]\n",
       "26            Día de la Constitución [Constitution Day]\n",
       "27    Natalicio de Benito Juárez [Benito Juárez's bi...\n",
       "28                         Día del Trabajo [Labour Day]\n",
       "29           Día de la Independencia [Independence Day]\n",
       "30    Día de la Independencia [Independence Day] (Ob...\n",
       "31                Día de la Revolución [Revolution Day]\n",
       "32    Transmisión del Poder Ejecutivo Federal [Chang...\n",
       "33    Transmisión del Poder Ejecutivo Federal [Chang...\n",
       "34                                  Navidad [Christmas]\n",
       "Name: holiday, dtype: object"
      ]
     },
     "execution_count": 29,
     "metadata": {},
     "output_type": "execute_result"
    }
   ],
   "source": [
    "holidays_df.loc[:,'ds'] = ldates\n",
    "holidays_df.loc[:,'holiday'] = lnames\n",
    "holidays_df.holiday"
   ]
  },
  {
   "cell_type": "code",
   "execution_count": null,
   "metadata": {},
   "outputs": [],
   "source": []
  }
 ],
 "metadata": {
  "kernelspec": {
   "display_name": "Python 3",
   "language": "python",
   "name": "python3"
  },
  "language_info": {
   "codemirror_mode": {
    "name": "ipython",
    "version": 3
   },
   "file_extension": ".py",
   "mimetype": "text/x-python",
   "name": "python",
   "nbconvert_exporter": "python",
   "pygments_lexer": "ipython3",
   "version": "3.7.3"
  }
 },
 "nbformat": 4,
 "nbformat_minor": 2
}
